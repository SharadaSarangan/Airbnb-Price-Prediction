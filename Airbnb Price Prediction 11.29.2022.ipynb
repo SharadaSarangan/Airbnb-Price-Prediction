{
 "cells": [
  {
   "cell_type": "markdown",
   "id": "dfd321fa",
   "metadata": {},
   "source": [
    "<strong> Project - Airbnb Price Prediction </strong> <br>\n",
    "Author - Sharada Sarangan <br>\n",
    "Date - 11.29.2022"
   ]
  },
  {
   "cell_type": "code",
   "execution_count": 1,
   "id": "010ad033",
   "metadata": {},
   "outputs": [
    {
     "name": "stdout",
     "output_type": "stream",
     "text": [
      "Requirement already satisfied: folium in c:\\users\\admin\\anaconda3\\lib\\site-packages (0.13.0)\n",
      "Requirement already satisfied: requests in c:\\users\\admin\\anaconda3\\lib\\site-packages (from folium) (2.28.1)\n",
      "Requirement already satisfied: branca>=0.3.0 in c:\\users\\admin\\anaconda3\\lib\\site-packages (from folium) (0.5.0)\n",
      "Requirement already satisfied: numpy in c:\\users\\admin\\anaconda3\\lib\\site-packages (from folium) (1.23.4)\n",
      "Requirement already satisfied: jinja2>=2.9 in c:\\users\\admin\\anaconda3\\lib\\site-packages (from folium) (2.11.3)\n",
      "Requirement already satisfied: MarkupSafe>=0.23 in c:\\users\\admin\\anaconda3\\lib\\site-packages (from jinja2>=2.9->folium) (1.1.1)\n",
      "Requirement already satisfied: charset-normalizer<3,>=2 in c:\\users\\admin\\anaconda3\\lib\\site-packages (from requests->folium) (2.1.1)\n",
      "Requirement already satisfied: certifi>=2017.4.17 in c:\\users\\admin\\anaconda3\\lib\\site-packages (from requests->folium) (2020.12.5)\n",
      "Requirement already satisfied: idna<4,>=2.5 in c:\\users\\admin\\anaconda3\\lib\\site-packages (from requests->folium) (2.10)\n",
      "Requirement already satisfied: urllib3<1.27,>=1.21.1 in c:\\users\\admin\\anaconda3\\lib\\site-packages (from requests->folium) (1.26.4)\n"
     ]
    },
    {
     "name": "stderr",
     "output_type": "stream",
     "text": [
      "C:\\Users\\ADMIN\\anaconda3\\lib\\site-packages\\scipy\\__init__.py:138: UserWarning: A NumPy version >=1.16.5 and <1.23.0 is required for this version of SciPy (detected version 1.23.4)\n",
      "  warnings.warn(f\"A NumPy version >={np_minversion} and <{np_maxversion} is required for this version of \"\n"
     ]
    }
   ],
   "source": [
    "!pip install folium\n",
    "# for some basic operations\n",
    "# open a terminal and type:\n",
    "# conda install -c conda-forge folium\n",
    "import numpy as np \n",
    "import pandas as pd \n",
    "\n",
    "# for visualizations\n",
    "import matplotlib.pyplot as plt\n",
    "import seaborn as sns\n",
    "import folium\n",
    "import re\n",
    "import sklearn\n",
    "from sklearn.metrics import mean_absolute_percentage_error\n",
    "from sklearn.metrics import mean_absolute_error"
   ]
  },
  {
   "cell_type": "code",
   "execution_count": 2,
   "id": "973db5a0",
   "metadata": {},
   "outputs": [
    {
     "name": "stderr",
     "output_type": "stream",
     "text": [
      "<ipython-input-2-9ef56a5423c7>:1: DtypeWarning: Columns (87) have mixed types. Specify dtype option on import or set low_memory=False.\n",
      "  df = pd.read_csv('~/Downloads/Detail_listings.csv')\n"
     ]
    }
   ],
   "source": [
    "df = pd.read_csv('~/Downloads/Detail_listings.csv')\n"
   ]
  },
  {
   "cell_type": "code",
   "execution_count": 3,
   "id": "3c2f0437",
   "metadata": {},
   "outputs": [
    {
     "data": {
      "text/html": [
       "<div>\n",
       "<style scoped>\n",
       "    .dataframe tbody tr th:only-of-type {\n",
       "        vertical-align: middle;\n",
       "    }\n",
       "\n",
       "    .dataframe tbody tr th {\n",
       "        vertical-align: top;\n",
       "    }\n",
       "\n",
       "    .dataframe thead th {\n",
       "        text-align: right;\n",
       "    }\n",
       "</style>\n",
       "<table border=\"1\" class=\"dataframe\">\n",
       "  <thead>\n",
       "    <tr style=\"text-align: right;\">\n",
       "      <th></th>\n",
       "      <th>id</th>\n",
       "      <th>listing_url</th>\n",
       "      <th>scrape_id</th>\n",
       "      <th>last_scraped</th>\n",
       "      <th>name</th>\n",
       "      <th>summary</th>\n",
       "      <th>space</th>\n",
       "      <th>description</th>\n",
       "      <th>experiences_offered</th>\n",
       "      <th>neighborhood_overview</th>\n",
       "      <th>...</th>\n",
       "      <th>review_scores_value</th>\n",
       "      <th>requires_license</th>\n",
       "      <th>license</th>\n",
       "      <th>jurisdiction_names</th>\n",
       "      <th>instant_bookable</th>\n",
       "      <th>cancellation_policy</th>\n",
       "      <th>require_guest_profile_picture</th>\n",
       "      <th>require_guest_phone_verification</th>\n",
       "      <th>calculated_host_listings_count</th>\n",
       "      <th>reviews_per_month</th>\n",
       "    </tr>\n",
       "  </thead>\n",
       "  <tbody>\n",
       "    <tr>\n",
       "      <th>0</th>\n",
       "      <td>16228948</td>\n",
       "      <td>https://www.airbnb.com/rooms/16228948</td>\n",
       "      <td>20170502172350</td>\n",
       "      <td>42858</td>\n",
       "      <td>Robert Ranch in Los Angeles for filming/wedding</td>\n",
       "      <td>Stunning Ranch Estate situated on 20 acres and...</td>\n",
       "      <td>NaN</td>\n",
       "      <td>Stunning Ranch Estate situated on 20 acres and...</td>\n",
       "      <td>none</td>\n",
       "      <td>NaN</td>\n",
       "      <td>...</td>\n",
       "      <td>NaN</td>\n",
       "      <td>f</td>\n",
       "      <td>NaN</td>\n",
       "      <td>NaN</td>\n",
       "      <td>t</td>\n",
       "      <td>strict</td>\n",
       "      <td>f</td>\n",
       "      <td>f</td>\n",
       "      <td>1</td>\n",
       "      <td>NaN</td>\n",
       "    </tr>\n",
       "    <tr>\n",
       "      <th>1</th>\n",
       "      <td>8909380</td>\n",
       "      <td>https://www.airbnb.com/rooms/8909380</td>\n",
       "      <td>20170502172350</td>\n",
       "      <td>42858</td>\n",
       "      <td>Nice quiet private ranch house</td>\n",
       "      <td>NaN</td>\n",
       "      <td>Very private and quite . Hiking horse riding a...</td>\n",
       "      <td>Very private and quite . Hiking horse riding a...</td>\n",
       "      <td>none</td>\n",
       "      <td>I'm in the country what's not to love about that</td>\n",
       "      <td>...</td>\n",
       "      <td>9.0</td>\n",
       "      <td>f</td>\n",
       "      <td>NaN</td>\n",
       "      <td>NaN</td>\n",
       "      <td>f</td>\n",
       "      <td>flexible</td>\n",
       "      <td>f</td>\n",
       "      <td>f</td>\n",
       "      <td>1</td>\n",
       "      <td>1.91</td>\n",
       "    </tr>\n",
       "    <tr>\n",
       "      <th>2</th>\n",
       "      <td>14078522</td>\n",
       "      <td>https://www.airbnb.com/rooms/14078522</td>\n",
       "      <td>20170502172350</td>\n",
       "      <td>42858</td>\n",
       "      <td>Room w/private bath on Small Ranch</td>\n",
       "      <td>My place is close to Six Flags Magic Mountain ...</td>\n",
       "      <td>Room with queen bed and private bath</td>\n",
       "      <td>My place is close to Six Flags Magic Mountain ...</td>\n",
       "      <td>none</td>\n",
       "      <td>Horse area. Trails for hiking and riding. Quie...</td>\n",
       "      <td>...</td>\n",
       "      <td>10.0</td>\n",
       "      <td>f</td>\n",
       "      <td>NaN</td>\n",
       "      <td>NaN</td>\n",
       "      <td>f</td>\n",
       "      <td>flexible</td>\n",
       "      <td>f</td>\n",
       "      <td>f</td>\n",
       "      <td>1</td>\n",
       "      <td>1.72</td>\n",
       "    </tr>\n",
       "    <tr>\n",
       "      <th>3</th>\n",
       "      <td>13006928</td>\n",
       "      <td>https://www.airbnb.com/rooms/13006928</td>\n",
       "      <td>20170502172350</td>\n",
       "      <td>42858</td>\n",
       "      <td>Miller Ranch Bunkhouse</td>\n",
       "      <td>Our place is close to great views, equestrian ...</td>\n",
       "      <td>Please know that we live on a dirt road but it...</td>\n",
       "      <td>Our place is close to great views, equestrian ...</td>\n",
       "      <td>none</td>\n",
       "      <td>NaN</td>\n",
       "      <td>...</td>\n",
       "      <td>10.0</td>\n",
       "      <td>f</td>\n",
       "      <td>NaN</td>\n",
       "      <td>NaN</td>\n",
       "      <td>t</td>\n",
       "      <td>flexible</td>\n",
       "      <td>f</td>\n",
       "      <td>f</td>\n",
       "      <td>1</td>\n",
       "      <td>2.12</td>\n",
       "    </tr>\n",
       "    <tr>\n",
       "      <th>4</th>\n",
       "      <td>7898757</td>\n",
       "      <td>https://www.airbnb.com/rooms/7898757</td>\n",
       "      <td>20170502172350</td>\n",
       "      <td>42858</td>\n",
       "      <td>Studio with full bathroom</td>\n",
       "      <td>Fully furnished studio only a 10 min drive fro...</td>\n",
       "      <td>NaN</td>\n",
       "      <td>Fully furnished studio only a 10 min drive fro...</td>\n",
       "      <td>none</td>\n",
       "      <td>NaN</td>\n",
       "      <td>...</td>\n",
       "      <td>10.0</td>\n",
       "      <td>f</td>\n",
       "      <td>NaN</td>\n",
       "      <td>City of Los Angeles, CA</td>\n",
       "      <td>f</td>\n",
       "      <td>flexible</td>\n",
       "      <td>f</td>\n",
       "      <td>f</td>\n",
       "      <td>1</td>\n",
       "      <td>0.18</td>\n",
       "    </tr>\n",
       "  </tbody>\n",
       "</table>\n",
       "<p>5 rows × 95 columns</p>\n",
       "</div>"
      ],
      "text/plain": [
       "         id                            listing_url       scrape_id  \\\n",
       "0  16228948  https://www.airbnb.com/rooms/16228948  20170502172350   \n",
       "1   8909380   https://www.airbnb.com/rooms/8909380  20170502172350   \n",
       "2  14078522  https://www.airbnb.com/rooms/14078522  20170502172350   \n",
       "3  13006928  https://www.airbnb.com/rooms/13006928  20170502172350   \n",
       "4   7898757   https://www.airbnb.com/rooms/7898757  20170502172350   \n",
       "\n",
       "   last_scraped                                             name  \\\n",
       "0         42858  Robert Ranch in Los Angeles for filming/wedding   \n",
       "1         42858                   Nice quiet private ranch house   \n",
       "2         42858               Room w/private bath on Small Ranch   \n",
       "3         42858                           Miller Ranch Bunkhouse   \n",
       "4         42858                        Studio with full bathroom   \n",
       "\n",
       "                                             summary  \\\n",
       "0  Stunning Ranch Estate situated on 20 acres and...   \n",
       "1                                                NaN   \n",
       "2  My place is close to Six Flags Magic Mountain ...   \n",
       "3  Our place is close to great views, equestrian ...   \n",
       "4  Fully furnished studio only a 10 min drive fro...   \n",
       "\n",
       "                                               space  \\\n",
       "0                                                NaN   \n",
       "1  Very private and quite . Hiking horse riding a...   \n",
       "2               Room with queen bed and private bath   \n",
       "3  Please know that we live on a dirt road but it...   \n",
       "4                                                NaN   \n",
       "\n",
       "                                         description experiences_offered  \\\n",
       "0  Stunning Ranch Estate situated on 20 acres and...                none   \n",
       "1  Very private and quite . Hiking horse riding a...                none   \n",
       "2  My place is close to Six Flags Magic Mountain ...                none   \n",
       "3  Our place is close to great views, equestrian ...                none   \n",
       "4  Fully furnished studio only a 10 min drive fro...                none   \n",
       "\n",
       "                               neighborhood_overview  ... review_scores_value  \\\n",
       "0                                                NaN  ...                 NaN   \n",
       "1   I'm in the country what's not to love about that  ...                 9.0   \n",
       "2  Horse area. Trails for hiking and riding. Quie...  ...                10.0   \n",
       "3                                                NaN  ...                10.0   \n",
       "4                                                NaN  ...                10.0   \n",
       "\n",
       "  requires_license license       jurisdiction_names instant_bookable  \\\n",
       "0                f     NaN                      NaN                t   \n",
       "1                f     NaN                      NaN                f   \n",
       "2                f     NaN                      NaN                f   \n",
       "3                f     NaN                      NaN                t   \n",
       "4                f     NaN  City of Los Angeles, CA                f   \n",
       "\n",
       "  cancellation_policy require_guest_profile_picture  \\\n",
       "0              strict                             f   \n",
       "1            flexible                             f   \n",
       "2            flexible                             f   \n",
       "3            flexible                             f   \n",
       "4            flexible                             f   \n",
       "\n",
       "  require_guest_phone_verification calculated_host_listings_count  \\\n",
       "0                                f                              1   \n",
       "1                                f                              1   \n",
       "2                                f                              1   \n",
       "3                                f                              1   \n",
       "4                                f                              1   \n",
       "\n",
       "   reviews_per_month  \n",
       "0                NaN  \n",
       "1               1.91  \n",
       "2               1.72  \n",
       "3               2.12  \n",
       "4               0.18  \n",
       "\n",
       "[5 rows x 95 columns]"
      ]
     },
     "execution_count": 3,
     "metadata": {},
     "output_type": "execute_result"
    }
   ],
   "source": [
    "df.head()"
   ]
  },
  {
   "cell_type": "code",
   "execution_count": 4,
   "id": "1918ef19",
   "metadata": {},
   "outputs": [],
   "source": [
    "air = df[['host_is_superhost', 'host_has_profile_pic', 'host_identity_verified', 'neighbourhood_cleansed', 'city', 'state', 'zipcode', 'smart_location', 'latitude', 'longitude', 'is_location_exact', 'property_type', 'room_type', 'accommodates', 'bathrooms', 'bedrooms', 'beds', 'bed_type', 'amenities', 'price', 'cleaning_fee', 'instant_bookable', 'cancellation_policy', 'require_guest_profile_picture', 'require_guest_phone_verification','minimum_nights']]"
   ]
  },
  {
   "cell_type": "code",
   "execution_count": 5,
   "id": "8d0cf438",
   "metadata": {},
   "outputs": [
    {
     "data": {
      "text/plain": [
       "Index(['host_is_superhost', 'host_has_profile_pic', 'host_identity_verified',\n",
       "       'neighbourhood_cleansed', 'city', 'state', 'zipcode', 'smart_location',\n",
       "       'latitude', 'longitude', 'is_location_exact', 'property_type',\n",
       "       'room_type', 'accommodates', 'bathrooms', 'bedrooms', 'beds',\n",
       "       'bed_type', 'amenities', 'price', 'cleaning_fee', 'instant_bookable',\n",
       "       'cancellation_policy', 'require_guest_profile_picture',\n",
       "       'require_guest_phone_verification', 'minimum_nights'],\n",
       "      dtype='object')"
      ]
     },
     "execution_count": 5,
     "metadata": {},
     "output_type": "execute_result"
    }
   ],
   "source": [
    "air.columns"
   ]
  },
  {
   "cell_type": "code",
   "execution_count": 6,
   "id": "78a8385c",
   "metadata": {},
   "outputs": [
    {
     "data": {
      "text/plain": [
       "host_is_superhost                     14\n",
       "host_has_profile_pic                  14\n",
       "host_identity_verified                14\n",
       "neighbourhood_cleansed                 0\n",
       "city                                  11\n",
       "state                                  1\n",
       "zipcode                              395\n",
       "smart_location                         0\n",
       "latitude                               0\n",
       "longitude                              0\n",
       "is_location_exact                      0\n",
       "property_type                          0\n",
       "room_type                              0\n",
       "accommodates                           0\n",
       "bathrooms                             97\n",
       "bedrooms                              35\n",
       "beds                                  59\n",
       "bed_type                               0\n",
       "amenities                              0\n",
       "price                                  0\n",
       "cleaning_fee                        6974\n",
       "instant_bookable                       0\n",
       "cancellation_policy                    0\n",
       "require_guest_profile_picture          0\n",
       "require_guest_phone_verification       0\n",
       "minimum_nights                         0\n",
       "dtype: int64"
      ]
     },
     "execution_count": 6,
     "metadata": {},
     "output_type": "execute_result"
    }
   ],
   "source": [
    "# Checking for null values\n",
    "air.isna().sum()"
   ]
  },
  {
   "cell_type": "code",
   "execution_count": 7,
   "id": "61e186e3",
   "metadata": {},
   "outputs": [
    {
     "data": {
      "text/plain": [
       "(9835, 26)"
      ]
     },
     "execution_count": 7,
     "metadata": {},
     "output_type": "execute_result"
    }
   ],
   "source": [
    "# Removing null values and irrelevant columns\n",
    "\n",
    "df1 = air[(air['is_location_exact']=='t') & (air['bed_type']=='Real Bed') & (air['beds'].notnull()) & (air['bathrooms'].notnull()) & (air['bedrooms'].notnull())]\n",
    "df2 = df1[df1['minimum_nights']==1]\n",
    "df2.shape"
   ]
  },
  {
   "cell_type": "code",
   "execution_count": 8,
   "id": "1147b0de",
   "metadata": {},
   "outputs": [
    {
     "data": {
      "text/plain": [
       "(23951, 26)"
      ]
     },
     "execution_count": 8,
     "metadata": {},
     "output_type": "execute_result"
    }
   ],
   "source": [
    "df1.shape"
   ]
  },
  {
   "cell_type": "code",
   "execution_count": 9,
   "id": "54c73911",
   "metadata": {},
   "outputs": [
    {
     "data": {
      "text/plain": [
       "host_is_superhost                    object\n",
       "host_has_profile_pic                 object\n",
       "host_identity_verified               object\n",
       "neighbourhood_cleansed               object\n",
       "city                                 object\n",
       "state                                object\n",
       "zipcode                              object\n",
       "smart_location                       object\n",
       "latitude                            float64\n",
       "longitude                           float64\n",
       "is_location_exact                    object\n",
       "property_type                        object\n",
       "room_type                            object\n",
       "accommodates                          int64\n",
       "bathrooms                           float64\n",
       "bedrooms                            float64\n",
       "beds                                float64\n",
       "bed_type                             object\n",
       "amenities                            object\n",
       "price                                 int64\n",
       "cleaning_fee                        float64\n",
       "instant_bookable                     object\n",
       "cancellation_policy                  object\n",
       "require_guest_profile_picture        object\n",
       "require_guest_phone_verification     object\n",
       "minimum_nights                        int64\n",
       "dtype: object"
      ]
     },
     "execution_count": 9,
     "metadata": {},
     "output_type": "execute_result"
    }
   ],
   "source": [
    "# Checking null values after cleaning\n",
    "\n",
    "df2.dtypes"
   ]
  },
  {
   "cell_type": "code",
   "execution_count": 10,
   "id": "f208937c",
   "metadata": {},
   "outputs": [
    {
     "data": {
      "text/html": [
       "<div>\n",
       "<style scoped>\n",
       "    .dataframe tbody tr th:only-of-type {\n",
       "        vertical-align: middle;\n",
       "    }\n",
       "\n",
       "    .dataframe tbody tr th {\n",
       "        vertical-align: top;\n",
       "    }\n",
       "\n",
       "    .dataframe thead th {\n",
       "        text-align: right;\n",
       "    }\n",
       "</style>\n",
       "<table border=\"1\" class=\"dataframe\">\n",
       "  <thead>\n",
       "    <tr style=\"text-align: right;\">\n",
       "      <th></th>\n",
       "      <th>host_is_superhost</th>\n",
       "      <th>host_has_profile_pic</th>\n",
       "      <th>host_identity_verified</th>\n",
       "      <th>neighbourhood_cleansed</th>\n",
       "      <th>city</th>\n",
       "      <th>state</th>\n",
       "      <th>zipcode</th>\n",
       "      <th>smart_location</th>\n",
       "      <th>latitude</th>\n",
       "      <th>longitude</th>\n",
       "      <th>is_location_exact</th>\n",
       "      <th>property_type</th>\n",
       "      <th>room_type</th>\n",
       "      <th>accommodates</th>\n",
       "      <th>bathrooms</th>\n",
       "      <th>bedrooms</th>\n",
       "      <th>beds</th>\n",
       "      <th>bed_type</th>\n",
       "      <th>amenities</th>\n",
       "      <th>price</th>\n",
       "      <th>cleaning_fee</th>\n",
       "      <th>instant_bookable</th>\n",
       "      <th>cancellation_policy</th>\n",
       "      <th>require_guest_profile_picture</th>\n",
       "      <th>require_guest_phone_verification</th>\n",
       "      <th>minimum_nights</th>\n",
       "    </tr>\n",
       "  </thead>\n",
       "  <tbody>\n",
       "    <tr>\n",
       "      <th>0</th>\n",
       "      <td>f</td>\n",
       "      <td>t</td>\n",
       "      <td>f</td>\n",
       "      <td>Acton</td>\n",
       "      <td>Acton</td>\n",
       "      <td>CA</td>\n",
       "      <td>93510</td>\n",
       "      <td>Acton, CA</td>\n",
       "      <td>34.530350</td>\n",
       "      <td>-118.227088</td>\n",
       "      <td>t</td>\n",
       "      <td>House</td>\n",
       "      <td>Entire home/apt</td>\n",
       "      <td>10</td>\n",
       "      <td>7.0</td>\n",
       "      <td>5.0</td>\n",
       "      <td>5.0</td>\n",
       "      <td>Real Bed</td>\n",
       "      <td>{\"Wireless Internet\",\"Air conditioning\",Pool,K...</td>\n",
       "      <td>3000</td>\n",
       "      <td>200.0</td>\n",
       "      <td>t</td>\n",
       "      <td>strict</td>\n",
       "      <td>f</td>\n",
       "      <td>f</td>\n",
       "      <td>1</td>\n",
       "    </tr>\n",
       "    <tr>\n",
       "      <th>2</th>\n",
       "      <td>t</td>\n",
       "      <td>t</td>\n",
       "      <td>t</td>\n",
       "      <td>Acton</td>\n",
       "      <td>Acton</td>\n",
       "      <td>CA</td>\n",
       "      <td>93510</td>\n",
       "      <td>Acton, CA</td>\n",
       "      <td>34.510130</td>\n",
       "      <td>-118.212407</td>\n",
       "      <td>t</td>\n",
       "      <td>House</td>\n",
       "      <td>Private room</td>\n",
       "      <td>2</td>\n",
       "      <td>1.0</td>\n",
       "      <td>1.0</td>\n",
       "      <td>1.0</td>\n",
       "      <td>Real Bed</td>\n",
       "      <td>{\"Wireless Internet\",\"Air conditioning\",\"Wheel...</td>\n",
       "      <td>55</td>\n",
       "      <td>NaN</td>\n",
       "      <td>f</td>\n",
       "      <td>flexible</td>\n",
       "      <td>f</td>\n",
       "      <td>f</td>\n",
       "      <td>1</td>\n",
       "    </tr>\n",
       "    <tr>\n",
       "      <th>3</th>\n",
       "      <td>t</td>\n",
       "      <td>t</td>\n",
       "      <td>f</td>\n",
       "      <td>Acton</td>\n",
       "      <td>Acton</td>\n",
       "      <td>CA</td>\n",
       "      <td>93510</td>\n",
       "      <td>Acton, CA</td>\n",
       "      <td>34.515486</td>\n",
       "      <td>-118.230742</td>\n",
       "      <td>t</td>\n",
       "      <td>Other</td>\n",
       "      <td>Entire home/apt</td>\n",
       "      <td>6</td>\n",
       "      <td>1.0</td>\n",
       "      <td>1.0</td>\n",
       "      <td>3.0</td>\n",
       "      <td>Real Bed</td>\n",
       "      <td>{TV,\"Wireless Internet\",\"Air conditioning\",Poo...</td>\n",
       "      <td>150</td>\n",
       "      <td>35.0</td>\n",
       "      <td>t</td>\n",
       "      <td>flexible</td>\n",
       "      <td>f</td>\n",
       "      <td>f</td>\n",
       "      <td>1</td>\n",
       "    </tr>\n",
       "    <tr>\n",
       "      <th>4</th>\n",
       "      <td>f</td>\n",
       "      <td>t</td>\n",
       "      <td>t</td>\n",
       "      <td>Adams-Normandie</td>\n",
       "      <td>Los Angeles</td>\n",
       "      <td>CA</td>\n",
       "      <td>90007</td>\n",
       "      <td>Los Angeles, CA</td>\n",
       "      <td>34.031419</td>\n",
       "      <td>-118.299016</td>\n",
       "      <td>t</td>\n",
       "      <td>Apartment</td>\n",
       "      <td>Private room</td>\n",
       "      <td>1</td>\n",
       "      <td>1.0</td>\n",
       "      <td>1.0</td>\n",
       "      <td>1.0</td>\n",
       "      <td>Real Bed</td>\n",
       "      <td>{Internet,\"Wireless Internet\",Kitchen,\"Free pa...</td>\n",
       "      <td>30</td>\n",
       "      <td>5.0</td>\n",
       "      <td>f</td>\n",
       "      <td>flexible</td>\n",
       "      <td>f</td>\n",
       "      <td>f</td>\n",
       "      <td>1</td>\n",
       "    </tr>\n",
       "    <tr>\n",
       "      <th>6</th>\n",
       "      <td>t</td>\n",
       "      <td>t</td>\n",
       "      <td>t</td>\n",
       "      <td>Adams-Normandie</td>\n",
       "      <td>Los Angeles</td>\n",
       "      <td>CA</td>\n",
       "      <td>90007</td>\n",
       "      <td>Los Angeles, CA</td>\n",
       "      <td>34.032502</td>\n",
       "      <td>-118.297748</td>\n",
       "      <td>t</td>\n",
       "      <td>House</td>\n",
       "      <td>Private room</td>\n",
       "      <td>2</td>\n",
       "      <td>1.0</td>\n",
       "      <td>1.0</td>\n",
       "      <td>1.0</td>\n",
       "      <td>Real Bed</td>\n",
       "      <td>{Internet,\"Wireless Internet\",\"Free parking on...</td>\n",
       "      <td>45</td>\n",
       "      <td>5.0</td>\n",
       "      <td>f</td>\n",
       "      <td>moderate</td>\n",
       "      <td>f</td>\n",
       "      <td>f</td>\n",
       "      <td>1</td>\n",
       "    </tr>\n",
       "  </tbody>\n",
       "</table>\n",
       "</div>"
      ],
      "text/plain": [
       "  host_is_superhost host_has_profile_pic host_identity_verified  \\\n",
       "0                 f                    t                      f   \n",
       "2                 t                    t                      t   \n",
       "3                 t                    t                      f   \n",
       "4                 f                    t                      t   \n",
       "6                 t                    t                      t   \n",
       "\n",
       "  neighbourhood_cleansed         city state zipcode   smart_location  \\\n",
       "0                  Acton        Acton    CA   93510        Acton, CA   \n",
       "2                  Acton        Acton    CA   93510        Acton, CA   \n",
       "3                  Acton        Acton    CA   93510        Acton, CA   \n",
       "4        Adams-Normandie  Los Angeles    CA   90007  Los Angeles, CA   \n",
       "6        Adams-Normandie  Los Angeles    CA   90007  Los Angeles, CA   \n",
       "\n",
       "    latitude   longitude is_location_exact property_type        room_type  \\\n",
       "0  34.530350 -118.227088                 t         House  Entire home/apt   \n",
       "2  34.510130 -118.212407                 t         House     Private room   \n",
       "3  34.515486 -118.230742                 t         Other  Entire home/apt   \n",
       "4  34.031419 -118.299016                 t     Apartment     Private room   \n",
       "6  34.032502 -118.297748                 t         House     Private room   \n",
       "\n",
       "   accommodates  bathrooms  bedrooms  beds  bed_type  \\\n",
       "0            10        7.0       5.0   5.0  Real Bed   \n",
       "2             2        1.0       1.0   1.0  Real Bed   \n",
       "3             6        1.0       1.0   3.0  Real Bed   \n",
       "4             1        1.0       1.0   1.0  Real Bed   \n",
       "6             2        1.0       1.0   1.0  Real Bed   \n",
       "\n",
       "                                           amenities  price  cleaning_fee  \\\n",
       "0  {\"Wireless Internet\",\"Air conditioning\",Pool,K...   3000         200.0   \n",
       "2  {\"Wireless Internet\",\"Air conditioning\",\"Wheel...     55           NaN   \n",
       "3  {TV,\"Wireless Internet\",\"Air conditioning\",Poo...    150          35.0   \n",
       "4  {Internet,\"Wireless Internet\",Kitchen,\"Free pa...     30           5.0   \n",
       "6  {Internet,\"Wireless Internet\",\"Free parking on...     45           5.0   \n",
       "\n",
       "  instant_bookable cancellation_policy require_guest_profile_picture  \\\n",
       "0                t              strict                             f   \n",
       "2                f            flexible                             f   \n",
       "3                t            flexible                             f   \n",
       "4                f            flexible                             f   \n",
       "6                f            moderate                             f   \n",
       "\n",
       "  require_guest_phone_verification  minimum_nights  \n",
       "0                                f               1  \n",
       "2                                f               1  \n",
       "3                                f               1  \n",
       "4                                f               1  \n",
       "6                                f               1  "
      ]
     },
     "execution_count": 10,
     "metadata": {},
     "output_type": "execute_result"
    }
   ],
   "source": [
    "pd.set_option('display.max_columns', None)\n",
    "pd.set_option('display.max_rows', None)\n",
    "df2.head()"
   ]
  },
  {
   "cell_type": "code",
   "execution_count": 11,
   "id": "1e22401c",
   "metadata": {},
   "outputs": [
    {
     "name": "stderr",
     "output_type": "stream",
     "text": [
      "<ipython-input-11-4986f038e435>:1: SettingWithCopyWarning: \n",
      "A value is trying to be set on a copy of a slice from a DataFrame\n",
      "\n",
      "See the caveats in the documentation: https://pandas.pydata.org/pandas-docs/stable/user_guide/indexing.html#returning-a-view-versus-a-copy\n",
      "  df2.drop(columns=['is_location_exact','bed_type'],inplace=True)\n"
     ]
    }
   ],
   "source": [
    "df2.drop(columns=['is_location_exact','bed_type'],inplace=True)"
   ]
  },
  {
   "cell_type": "code",
   "execution_count": 12,
   "id": "7464aa3a",
   "metadata": {},
   "outputs": [
    {
     "data": {
      "text/plain": [
       "(9835, 24)"
      ]
     },
     "execution_count": 12,
     "metadata": {},
     "output_type": "execute_result"
    }
   ],
   "source": [
    "df2.shape"
   ]
  },
  {
   "cell_type": "code",
   "execution_count": 13,
   "id": "ee92c892",
   "metadata": {},
   "outputs": [
    {
     "data": {
      "text/html": [
       "<div>\n",
       "<style scoped>\n",
       "    .dataframe tbody tr th:only-of-type {\n",
       "        vertical-align: middle;\n",
       "    }\n",
       "\n",
       "    .dataframe tbody tr th {\n",
       "        vertical-align: top;\n",
       "    }\n",
       "\n",
       "    .dataframe thead th {\n",
       "        text-align: right;\n",
       "    }\n",
       "</style>\n",
       "<table border=\"1\" class=\"dataframe\">\n",
       "  <thead>\n",
       "    <tr style=\"text-align: right;\">\n",
       "      <th></th>\n",
       "      <th>host_is_superhost</th>\n",
       "      <th>host_has_profile_pic</th>\n",
       "      <th>host_identity_verified</th>\n",
       "      <th>neighbourhood_cleansed</th>\n",
       "      <th>city</th>\n",
       "      <th>state</th>\n",
       "      <th>zipcode</th>\n",
       "      <th>smart_location</th>\n",
       "      <th>latitude</th>\n",
       "      <th>longitude</th>\n",
       "      <th>property_type</th>\n",
       "      <th>room_type</th>\n",
       "      <th>accommodates</th>\n",
       "      <th>bathrooms</th>\n",
       "      <th>bedrooms</th>\n",
       "      <th>beds</th>\n",
       "      <th>amenities</th>\n",
       "      <th>price</th>\n",
       "      <th>cleaning_fee</th>\n",
       "      <th>instant_bookable</th>\n",
       "      <th>cancellation_policy</th>\n",
       "      <th>require_guest_profile_picture</th>\n",
       "      <th>require_guest_phone_verification</th>\n",
       "      <th>minimum_nights</th>\n",
       "    </tr>\n",
       "  </thead>\n",
       "  <tbody>\n",
       "    <tr>\n",
       "      <th>0</th>\n",
       "      <td>f</td>\n",
       "      <td>t</td>\n",
       "      <td>f</td>\n",
       "      <td>Acton</td>\n",
       "      <td>Acton</td>\n",
       "      <td>CA</td>\n",
       "      <td>93510</td>\n",
       "      <td>Acton, CA</td>\n",
       "      <td>34.530350</td>\n",
       "      <td>-118.227088</td>\n",
       "      <td>House</td>\n",
       "      <td>Entire home/apt</td>\n",
       "      <td>10</td>\n",
       "      <td>7.0</td>\n",
       "      <td>5.0</td>\n",
       "      <td>5.0</td>\n",
       "      <td>{\"Wireless Internet\",\"Air conditioning\",Pool,K...</td>\n",
       "      <td>3000</td>\n",
       "      <td>200.0</td>\n",
       "      <td>t</td>\n",
       "      <td>strict</td>\n",
       "      <td>f</td>\n",
       "      <td>f</td>\n",
       "      <td>1</td>\n",
       "    </tr>\n",
       "    <tr>\n",
       "      <th>2</th>\n",
       "      <td>t</td>\n",
       "      <td>t</td>\n",
       "      <td>t</td>\n",
       "      <td>Acton</td>\n",
       "      <td>Acton</td>\n",
       "      <td>CA</td>\n",
       "      <td>93510</td>\n",
       "      <td>Acton, CA</td>\n",
       "      <td>34.510130</td>\n",
       "      <td>-118.212407</td>\n",
       "      <td>House</td>\n",
       "      <td>Private room</td>\n",
       "      <td>2</td>\n",
       "      <td>1.0</td>\n",
       "      <td>1.0</td>\n",
       "      <td>1.0</td>\n",
       "      <td>{\"Wireless Internet\",\"Air conditioning\",\"Wheel...</td>\n",
       "      <td>55</td>\n",
       "      <td>NaN</td>\n",
       "      <td>f</td>\n",
       "      <td>flexible</td>\n",
       "      <td>f</td>\n",
       "      <td>f</td>\n",
       "      <td>1</td>\n",
       "    </tr>\n",
       "    <tr>\n",
       "      <th>3</th>\n",
       "      <td>t</td>\n",
       "      <td>t</td>\n",
       "      <td>f</td>\n",
       "      <td>Acton</td>\n",
       "      <td>Acton</td>\n",
       "      <td>CA</td>\n",
       "      <td>93510</td>\n",
       "      <td>Acton, CA</td>\n",
       "      <td>34.515486</td>\n",
       "      <td>-118.230742</td>\n",
       "      <td>Other</td>\n",
       "      <td>Entire home/apt</td>\n",
       "      <td>6</td>\n",
       "      <td>1.0</td>\n",
       "      <td>1.0</td>\n",
       "      <td>3.0</td>\n",
       "      <td>{TV,\"Wireless Internet\",\"Air conditioning\",Poo...</td>\n",
       "      <td>150</td>\n",
       "      <td>35.0</td>\n",
       "      <td>t</td>\n",
       "      <td>flexible</td>\n",
       "      <td>f</td>\n",
       "      <td>f</td>\n",
       "      <td>1</td>\n",
       "    </tr>\n",
       "    <tr>\n",
       "      <th>4</th>\n",
       "      <td>f</td>\n",
       "      <td>t</td>\n",
       "      <td>t</td>\n",
       "      <td>Adams-Normandie</td>\n",
       "      <td>Los Angeles</td>\n",
       "      <td>CA</td>\n",
       "      <td>90007</td>\n",
       "      <td>Los Angeles, CA</td>\n",
       "      <td>34.031419</td>\n",
       "      <td>-118.299016</td>\n",
       "      <td>Apartment</td>\n",
       "      <td>Private room</td>\n",
       "      <td>1</td>\n",
       "      <td>1.0</td>\n",
       "      <td>1.0</td>\n",
       "      <td>1.0</td>\n",
       "      <td>{Internet,\"Wireless Internet\",Kitchen,\"Free pa...</td>\n",
       "      <td>30</td>\n",
       "      <td>5.0</td>\n",
       "      <td>f</td>\n",
       "      <td>flexible</td>\n",
       "      <td>f</td>\n",
       "      <td>f</td>\n",
       "      <td>1</td>\n",
       "    </tr>\n",
       "    <tr>\n",
       "      <th>6</th>\n",
       "      <td>t</td>\n",
       "      <td>t</td>\n",
       "      <td>t</td>\n",
       "      <td>Adams-Normandie</td>\n",
       "      <td>Los Angeles</td>\n",
       "      <td>CA</td>\n",
       "      <td>90007</td>\n",
       "      <td>Los Angeles, CA</td>\n",
       "      <td>34.032502</td>\n",
       "      <td>-118.297748</td>\n",
       "      <td>House</td>\n",
       "      <td>Private room</td>\n",
       "      <td>2</td>\n",
       "      <td>1.0</td>\n",
       "      <td>1.0</td>\n",
       "      <td>1.0</td>\n",
       "      <td>{Internet,\"Wireless Internet\",\"Free parking on...</td>\n",
       "      <td>45</td>\n",
       "      <td>5.0</td>\n",
       "      <td>f</td>\n",
       "      <td>moderate</td>\n",
       "      <td>f</td>\n",
       "      <td>f</td>\n",
       "      <td>1</td>\n",
       "    </tr>\n",
       "  </tbody>\n",
       "</table>\n",
       "</div>"
      ],
      "text/plain": [
       "  host_is_superhost host_has_profile_pic host_identity_verified  \\\n",
       "0                 f                    t                      f   \n",
       "2                 t                    t                      t   \n",
       "3                 t                    t                      f   \n",
       "4                 f                    t                      t   \n",
       "6                 t                    t                      t   \n",
       "\n",
       "  neighbourhood_cleansed         city state zipcode   smart_location  \\\n",
       "0                  Acton        Acton    CA   93510        Acton, CA   \n",
       "2                  Acton        Acton    CA   93510        Acton, CA   \n",
       "3                  Acton        Acton    CA   93510        Acton, CA   \n",
       "4        Adams-Normandie  Los Angeles    CA   90007  Los Angeles, CA   \n",
       "6        Adams-Normandie  Los Angeles    CA   90007  Los Angeles, CA   \n",
       "\n",
       "    latitude   longitude property_type        room_type  accommodates  \\\n",
       "0  34.530350 -118.227088         House  Entire home/apt            10   \n",
       "2  34.510130 -118.212407         House     Private room             2   \n",
       "3  34.515486 -118.230742         Other  Entire home/apt             6   \n",
       "4  34.031419 -118.299016     Apartment     Private room             1   \n",
       "6  34.032502 -118.297748         House     Private room             2   \n",
       "\n",
       "   bathrooms  bedrooms  beds  \\\n",
       "0        7.0       5.0   5.0   \n",
       "2        1.0       1.0   1.0   \n",
       "3        1.0       1.0   3.0   \n",
       "4        1.0       1.0   1.0   \n",
       "6        1.0       1.0   1.0   \n",
       "\n",
       "                                           amenities  price  cleaning_fee  \\\n",
       "0  {\"Wireless Internet\",\"Air conditioning\",Pool,K...   3000         200.0   \n",
       "2  {\"Wireless Internet\",\"Air conditioning\",\"Wheel...     55           NaN   \n",
       "3  {TV,\"Wireless Internet\",\"Air conditioning\",Poo...    150          35.0   \n",
       "4  {Internet,\"Wireless Internet\",Kitchen,\"Free pa...     30           5.0   \n",
       "6  {Internet,\"Wireless Internet\",\"Free parking on...     45           5.0   \n",
       "\n",
       "  instant_bookable cancellation_policy require_guest_profile_picture  \\\n",
       "0                t              strict                             f   \n",
       "2                f            flexible                             f   \n",
       "3                t            flexible                             f   \n",
       "4                f            flexible                             f   \n",
       "6                f            moderate                             f   \n",
       "\n",
       "  require_guest_phone_verification  minimum_nights  \n",
       "0                                f               1  \n",
       "2                                f               1  \n",
       "3                                f               1  \n",
       "4                                f               1  \n",
       "6                                f               1  "
      ]
     },
     "execution_count": 13,
     "metadata": {},
     "output_type": "execute_result"
    }
   ],
   "source": [
    "df2.head()"
   ]
  },
  {
   "cell_type": "code",
   "execution_count": 14,
   "id": "66d93628",
   "metadata": {},
   "outputs": [],
   "source": [
    "# Replacing the $ and , in price column -- Changed in excel\n",
    "\n",
    "#df2.loc['price'] = df2['price'].str.replace(\"$\",\"\")\n",
    "#df2.loc['price'] = df2['price'].str.replace(\",\",\"\")\n",
    "\n",
    "# Converting price from object to float type\n",
    "\n",
    "# df2.loc['price'] = df2['price'].astype(float)"
   ]
  },
  {
   "cell_type": "code",
   "execution_count": 15,
   "id": "92a45e16",
   "metadata": {},
   "outputs": [
    {
     "data": {
      "text/plain": [
       "host_is_superhost                    object\n",
       "host_has_profile_pic                 object\n",
       "host_identity_verified               object\n",
       "neighbourhood_cleansed               object\n",
       "city                                 object\n",
       "state                                object\n",
       "zipcode                              object\n",
       "smart_location                       object\n",
       "latitude                            float64\n",
       "longitude                           float64\n",
       "property_type                        object\n",
       "room_type                            object\n",
       "accommodates                          int64\n",
       "bathrooms                           float64\n",
       "bedrooms                            float64\n",
       "beds                                float64\n",
       "amenities                            object\n",
       "price                                 int64\n",
       "cleaning_fee                        float64\n",
       "instant_bookable                     object\n",
       "cancellation_policy                  object\n",
       "require_guest_profile_picture        object\n",
       "require_guest_phone_verification     object\n",
       "minimum_nights                        int64\n",
       "dtype: object"
      ]
     },
     "execution_count": 15,
     "metadata": {},
     "output_type": "execute_result"
    }
   ],
   "source": [
    "df2.dtypes"
   ]
  },
  {
   "cell_type": "code",
   "execution_count": 16,
   "id": "f0ae29fc",
   "metadata": {},
   "outputs": [
    {
     "data": {
      "text/plain": [
       "<AxesSubplot:>"
      ]
     },
     "execution_count": 16,
     "metadata": {},
     "output_type": "execute_result"
    },
    {
     "data": {
      "image/png": "[encoded data removed]",
      "text/plain": [
       "<Figure size 432x288 with 1 Axes>"
      ]
     },
     "metadata": {
      "needs_background": "light"
     },
     "output_type": "display_data"
    }
   ],
   "source": [
    "df2.boxplot('price')"
   ]
  },
  {
   "cell_type": "code",
   "execution_count": 17,
   "id": "f073fbf5",
   "metadata": {},
   "outputs": [
    {
     "name": "stderr",
     "output_type": "stream",
     "text": [
      "C:\\Users\\ADMIN\\anaconda3\\lib\\site-packages\\seaborn\\distributions.py:2557: FutureWarning: `distplot` is a deprecated function and will be removed in a future version. Please adapt your code to use either `displot` (a figure-level function with similar flexibility) or `histplot` (an axes-level function for histograms).\n",
      "  warnings.warn(msg, FutureWarning)\n"
     ]
    },
    {
     "data": {
      "image/png": "[encoded data removed]",
      "text/plain": [
       "<Figure size 432x288 with 1 Axes>"
      ]
     },
     "metadata": {
      "needs_background": "light"
     },
     "output_type": "display_data"
    }
   ],
   "source": [
    "sns.distplot(df2['price'], hist=True, kde=True, \n",
    "              color = 'green', \n",
    "              hist_kws={'edgecolor':'black'},\n",
    "              kde_kws={'linewidth': 4}, bins =40)\n",
    "plt.xlabel('Price')\n",
    "plt.show()"
   ]
  },
  {
   "cell_type": "code",
   "execution_count": 18,
   "id": "34e63fc6",
   "metadata": {},
   "outputs": [
    {
     "data": {
      "text/plain": [
       "(9835, 24)"
      ]
     },
     "execution_count": 18,
     "metadata": {},
     "output_type": "execute_result"
    }
   ],
   "source": [
    "df2.shape"
   ]
  },
  {
   "cell_type": "code",
   "execution_count": 19,
   "id": "8c9648f0",
   "metadata": {},
   "outputs": [
    {
     "data": {
      "text/plain": [
       "0.00       10.0\n",
       "0.01       22.0\n",
       "0.10       45.0\n",
       "0.25       65.0\n",
       "0.30       70.0\n",
       "0.50       95.0\n",
       "0.60      109.0\n",
       "0.75      149.0\n",
       "0.80      165.0\n",
       "0.90      247.0\n",
       "0.95      350.0\n",
       "0.98      750.0\n",
       "0.99     1350.0\n",
       "1.00    10000.0\n",
       "Name: price, dtype: float64"
      ]
     },
     "execution_count": 19,
     "metadata": {},
     "output_type": "execute_result"
    }
   ],
   "source": [
    "# Checking the different quantile values\n",
    "df2['price'].quantile([0, 0.01, 0.10, 0.25, 0.3, 0.5, 0.6, 0.75, 0.8, 0.9, 0.95,0.98, 0.99, 1])"
   ]
  },
  {
   "cell_type": "code",
   "execution_count": 20,
   "id": "ff1b7011",
   "metadata": {},
   "outputs": [],
   "source": [
    "df3 = df2[df2['price'].between(df2['price'].quantile(.01), df2['price'].quantile(.98))]"
   ]
  },
  {
   "cell_type": "code",
   "execution_count": 21,
   "id": "4efc8fa7",
   "metadata": {},
   "outputs": [
    {
     "data": {
      "text/plain": [
       "(9547, 24)"
      ]
     },
     "execution_count": 21,
     "metadata": {},
     "output_type": "execute_result"
    }
   ],
   "source": [
    "df3.shape"
   ]
  },
  {
   "cell_type": "code",
   "execution_count": 22,
   "id": "fcc7a043",
   "metadata": {},
   "outputs": [
    {
     "name": "stderr",
     "output_type": "stream",
     "text": [
      "C:\\Users\\ADMIN\\anaconda3\\lib\\site-packages\\seaborn\\distributions.py:2557: FutureWarning: `distplot` is a deprecated function and will be removed in a future version. Please adapt your code to use either `displot` (a figure-level function with similar flexibility) or `histplot` (an axes-level function for histograms).\n",
      "  warnings.warn(msg, FutureWarning)\n"
     ]
    },
    {
     "data": {
      "image/png": "[encoded data removed]",
      "text/plain": [
       "<Figure size 432x288 with 1 Axes>"
      ]
     },
     "metadata": {
      "needs_background": "light"
     },
     "output_type": "display_data"
    }
   ],
   "source": [
    "sns.distplot(df3['price'], hist=True, kde=True, \n",
    "              color = 'green', \n",
    "              hist_kws={'edgecolor':'black'},\n",
    "              kde_kws={'linewidth': 4}, bins =40)\n",
    "plt.xlabel('Price')\n",
    "plt.show()"
   ]
  },
  {
   "cell_type": "code",
   "execution_count": 23,
   "id": "088f6e8f",
   "metadata": {},
   "outputs": [
    {
     "data": {
      "text/plain": [
       "<AxesSubplot:>"
      ]
     },
     "execution_count": 23,
     "metadata": {},
     "output_type": "execute_result"
    },
    {
     "data": {
      "image/png": "[encoded data removed]",
      "text/plain": [
       "<Figure size 432x288 with 1 Axes>"
      ]
     },
     "metadata": {
      "needs_background": "light"
     },
     "output_type": "display_data"
    }
   ],
   "source": [
    "df3.boxplot('price')"
   ]
  },
  {
   "cell_type": "code",
   "execution_count": 24,
   "id": "321817d5",
   "metadata": {},
   "outputs": [
    {
     "data": {
      "text/html": [
       "<div>\n",
       "<style scoped>\n",
       "    .dataframe tbody tr th:only-of-type {\n",
       "        vertical-align: middle;\n",
       "    }\n",
       "\n",
       "    .dataframe tbody tr th {\n",
       "        vertical-align: top;\n",
       "    }\n",
       "\n",
       "    .dataframe thead th {\n",
       "        text-align: right;\n",
       "    }\n",
       "</style>\n",
       "<table border=\"1\" class=\"dataframe\">\n",
       "  <thead>\n",
       "    <tr style=\"text-align: right;\">\n",
       "      <th></th>\n",
       "      <th>host_is_superhost</th>\n",
       "      <th>host_has_profile_pic</th>\n",
       "      <th>host_identity_verified</th>\n",
       "      <th>neighbourhood_cleansed</th>\n",
       "      <th>city</th>\n",
       "      <th>state</th>\n",
       "      <th>zipcode</th>\n",
       "      <th>smart_location</th>\n",
       "      <th>latitude</th>\n",
       "      <th>longitude</th>\n",
       "      <th>property_type</th>\n",
       "      <th>room_type</th>\n",
       "      <th>accommodates</th>\n",
       "      <th>bathrooms</th>\n",
       "      <th>bedrooms</th>\n",
       "      <th>beds</th>\n",
       "      <th>amenities</th>\n",
       "      <th>price</th>\n",
       "      <th>cleaning_fee</th>\n",
       "      <th>instant_bookable</th>\n",
       "      <th>cancellation_policy</th>\n",
       "      <th>require_guest_profile_picture</th>\n",
       "      <th>require_guest_phone_verification</th>\n",
       "      <th>minimum_nights</th>\n",
       "    </tr>\n",
       "  </thead>\n",
       "  <tbody>\n",
       "    <tr>\n",
       "      <th>2</th>\n",
       "      <td>t</td>\n",
       "      <td>t</td>\n",
       "      <td>t</td>\n",
       "      <td>Acton</td>\n",
       "      <td>Acton</td>\n",
       "      <td>CA</td>\n",
       "      <td>93510</td>\n",
       "      <td>Acton, CA</td>\n",
       "      <td>34.510130</td>\n",
       "      <td>-118.212407</td>\n",
       "      <td>House</td>\n",
       "      <td>Private room</td>\n",
       "      <td>2</td>\n",
       "      <td>1.0</td>\n",
       "      <td>1.0</td>\n",
       "      <td>1.0</td>\n",
       "      <td>{\"Wireless Internet\",\"Air conditioning\",\"Wheel...</td>\n",
       "      <td>55</td>\n",
       "      <td>NaN</td>\n",
       "      <td>f</td>\n",
       "      <td>flexible</td>\n",
       "      <td>f</td>\n",
       "      <td>f</td>\n",
       "      <td>1</td>\n",
       "    </tr>\n",
       "    <tr>\n",
       "      <th>3</th>\n",
       "      <td>t</td>\n",
       "      <td>t</td>\n",
       "      <td>f</td>\n",
       "      <td>Acton</td>\n",
       "      <td>Acton</td>\n",
       "      <td>CA</td>\n",
       "      <td>93510</td>\n",
       "      <td>Acton, CA</td>\n",
       "      <td>34.515486</td>\n",
       "      <td>-118.230742</td>\n",
       "      <td>Other</td>\n",
       "      <td>Entire home/apt</td>\n",
       "      <td>6</td>\n",
       "      <td>1.0</td>\n",
       "      <td>1.0</td>\n",
       "      <td>3.0</td>\n",
       "      <td>{TV,\"Wireless Internet\",\"Air conditioning\",Poo...</td>\n",
       "      <td>150</td>\n",
       "      <td>35.0</td>\n",
       "      <td>t</td>\n",
       "      <td>flexible</td>\n",
       "      <td>f</td>\n",
       "      <td>f</td>\n",
       "      <td>1</td>\n",
       "    </tr>\n",
       "    <tr>\n",
       "      <th>4</th>\n",
       "      <td>f</td>\n",
       "      <td>t</td>\n",
       "      <td>t</td>\n",
       "      <td>Adams-Normandie</td>\n",
       "      <td>Los Angeles</td>\n",
       "      <td>CA</td>\n",
       "      <td>90007</td>\n",
       "      <td>Los Angeles, CA</td>\n",
       "      <td>34.031419</td>\n",
       "      <td>-118.299016</td>\n",
       "      <td>Apartment</td>\n",
       "      <td>Private room</td>\n",
       "      <td>1</td>\n",
       "      <td>1.0</td>\n",
       "      <td>1.0</td>\n",
       "      <td>1.0</td>\n",
       "      <td>{Internet,\"Wireless Internet\",Kitchen,\"Free pa...</td>\n",
       "      <td>30</td>\n",
       "      <td>5.0</td>\n",
       "      <td>f</td>\n",
       "      <td>flexible</td>\n",
       "      <td>f</td>\n",
       "      <td>f</td>\n",
       "      <td>1</td>\n",
       "    </tr>\n",
       "    <tr>\n",
       "      <th>6</th>\n",
       "      <td>t</td>\n",
       "      <td>t</td>\n",
       "      <td>t</td>\n",
       "      <td>Adams-Normandie</td>\n",
       "      <td>Los Angeles</td>\n",
       "      <td>CA</td>\n",
       "      <td>90007</td>\n",
       "      <td>Los Angeles, CA</td>\n",
       "      <td>34.032502</td>\n",
       "      <td>-118.297748</td>\n",
       "      <td>House</td>\n",
       "      <td>Private room</td>\n",
       "      <td>2</td>\n",
       "      <td>1.0</td>\n",
       "      <td>1.0</td>\n",
       "      <td>1.0</td>\n",
       "      <td>{Internet,\"Wireless Internet\",\"Free parking on...</td>\n",
       "      <td>45</td>\n",
       "      <td>5.0</td>\n",
       "      <td>f</td>\n",
       "      <td>moderate</td>\n",
       "      <td>f</td>\n",
       "      <td>f</td>\n",
       "      <td>1</td>\n",
       "    </tr>\n",
       "    <tr>\n",
       "      <th>8</th>\n",
       "      <td>f</td>\n",
       "      <td>t</td>\n",
       "      <td>t</td>\n",
       "      <td>Adams-Normandie</td>\n",
       "      <td>Los Angeles</td>\n",
       "      <td>CA</td>\n",
       "      <td>90007</td>\n",
       "      <td>Los Angeles, CA</td>\n",
       "      <td>34.035359</td>\n",
       "      <td>-118.299137</td>\n",
       "      <td>House</td>\n",
       "      <td>Entire home/apt</td>\n",
       "      <td>2</td>\n",
       "      <td>1.5</td>\n",
       "      <td>2.0</td>\n",
       "      <td>1.0</td>\n",
       "      <td>{TV,\"Wireless Internet\",\"Air conditioning\",Kit...</td>\n",
       "      <td>350</td>\n",
       "      <td>NaN</td>\n",
       "      <td>f</td>\n",
       "      <td>flexible</td>\n",
       "      <td>f</td>\n",
       "      <td>f</td>\n",
       "      <td>1</td>\n",
       "    </tr>\n",
       "  </tbody>\n",
       "</table>\n",
       "</div>"
      ],
      "text/plain": [
       "  host_is_superhost host_has_profile_pic host_identity_verified  \\\n",
       "2                 t                    t                      t   \n",
       "3                 t                    t                      f   \n",
       "4                 f                    t                      t   \n",
       "6                 t                    t                      t   \n",
       "8                 f                    t                      t   \n",
       "\n",
       "  neighbourhood_cleansed         city state zipcode   smart_location  \\\n",
       "2                  Acton        Acton    CA   93510        Acton, CA   \n",
       "3                  Acton        Acton    CA   93510        Acton, CA   \n",
       "4        Adams-Normandie  Los Angeles    CA   90007  Los Angeles, CA   \n",
       "6        Adams-Normandie  Los Angeles    CA   90007  Los Angeles, CA   \n",
       "8        Adams-Normandie  Los Angeles    CA   90007  Los Angeles, CA   \n",
       "\n",
       "    latitude   longitude property_type        room_type  accommodates  \\\n",
       "2  34.510130 -118.212407         House     Private room             2   \n",
       "3  34.515486 -118.230742         Other  Entire home/apt             6   \n",
       "4  34.031419 -118.299016     Apartment     Private room             1   \n",
       "6  34.032502 -118.297748         House     Private room             2   \n",
       "8  34.035359 -118.299137         House  Entire home/apt             2   \n",
       "\n",
       "   bathrooms  bedrooms  beds  \\\n",
       "2        1.0       1.0   1.0   \n",
       "3        1.0       1.0   3.0   \n",
       "4        1.0       1.0   1.0   \n",
       "6        1.0       1.0   1.0   \n",
       "8        1.5       2.0   1.0   \n",
       "\n",
       "                                           amenities  price  cleaning_fee  \\\n",
       "2  {\"Wireless Internet\",\"Air conditioning\",\"Wheel...     55           NaN   \n",
       "3  {TV,\"Wireless Internet\",\"Air conditioning\",Poo...    150          35.0   \n",
       "4  {Internet,\"Wireless Internet\",Kitchen,\"Free pa...     30           5.0   \n",
       "6  {Internet,\"Wireless Internet\",\"Free parking on...     45           5.0   \n",
       "8  {TV,\"Wireless Internet\",\"Air conditioning\",Kit...    350           NaN   \n",
       "\n",
       "  instant_bookable cancellation_policy require_guest_profile_picture  \\\n",
       "2                f            flexible                             f   \n",
       "3                t            flexible                             f   \n",
       "4                f            flexible                             f   \n",
       "6                f            moderate                             f   \n",
       "8                f            flexible                             f   \n",
       "\n",
       "  require_guest_phone_verification  minimum_nights  \n",
       "2                                f               1  \n",
       "3                                f               1  \n",
       "4                                f               1  \n",
       "6                                f               1  \n",
       "8                                f               1  "
      ]
     },
     "execution_count": 24,
     "metadata": {},
     "output_type": "execute_result"
    }
   ],
   "source": [
    "df3.head()"
   ]
  },
  {
   "cell_type": "code",
   "execution_count": 25,
   "id": "05dfbf72",
   "metadata": {},
   "outputs": [],
   "source": [
    "df3.to_csv(r'C:\\Users\\ADMIN\\Desktop\\Sharada PG Documents\\UCI\\08. Study Materials\\07. Machine Learning\\03. Group Project\\Files\\Cleaned1.csv', index=False)"
   ]
  },
  {
   "cell_type": "code",
   "execution_count": 26,
   "id": "d3da824f",
   "metadata": {},
   "outputs": [
    {
     "data": {
      "text/plain": [
       "latitude         -0.149434\n",
       "longitude         0.763894\n",
       "accommodates      2.511032\n",
       "bathrooms         4.091431\n",
       "bedrooms          2.009721\n",
       "beds              4.273758\n",
       "price             2.612010\n",
       "cleaning_fee      2.265953\n",
       "minimum_nights    0.000000\n",
       "dtype: float64"
      ]
     },
     "execution_count": 26,
     "metadata": {},
     "output_type": "execute_result"
    }
   ],
   "source": [
    "df3.skew(axis = 0, skipna = True, numeric_only = True)\n",
    "# Skewness of price is high"
   ]
  },
  {
   "cell_type": "code",
   "execution_count": 27,
   "id": "7d5d2cd4",
   "metadata": {
    "collapsed": true
   },
   "outputs": [
    {
     "name": "stderr",
     "output_type": "stream",
     "text": [
      "<ipython-input-27-389e39716975>:4: SettingWithCopyWarning: \n",
      "A value is trying to be set on a copy of a slice from a DataFrame.\n",
      "Try using .loc[row_indexer,col_indexer] = value instead\n",
      "\n",
      "See the caveats in the documentation: https://pandas.pydata.org/pandas-docs/stable/user_guide/indexing.html#returning-a-view-versus-a-copy\n",
      "  df3[\"price_log\"] = np.log2(df3['price'] + 1)\n"
     ]
    }
   ],
   "source": [
    "# Taking log to avoid skewness\n",
    "\n",
    "df3[\"price_log\"] = np.log2(df3['price'] + 1)"
   ]
  },
  {
   "cell_type": "code",
   "execution_count": 28,
   "id": "a3042d72",
   "metadata": {},
   "outputs": [
    {
     "data": {
      "text/html": [
       "<div>\n",
       "<style scoped>\n",
       "    .dataframe tbody tr th:only-of-type {\n",
       "        vertical-align: middle;\n",
       "    }\n",
       "\n",
       "    .dataframe tbody tr th {\n",
       "        vertical-align: top;\n",
       "    }\n",
       "\n",
       "    .dataframe thead th {\n",
       "        text-align: right;\n",
       "    }\n",
       "</style>\n",
       "<table border=\"1\" class=\"dataframe\">\n",
       "  <thead>\n",
       "    <tr style=\"text-align: right;\">\n",
       "      <th></th>\n",
       "      <th>host_is_superhost</th>\n",
       "      <th>host_has_profile_pic</th>\n",
       "      <th>host_identity_verified</th>\n",
       "      <th>neighbourhood_cleansed</th>\n",
       "      <th>city</th>\n",
       "      <th>state</th>\n",
       "      <th>zipcode</th>\n",
       "      <th>smart_location</th>\n",
       "      <th>latitude</th>\n",
       "      <th>longitude</th>\n",
       "      <th>property_type</th>\n",
       "      <th>room_type</th>\n",
       "      <th>accommodates</th>\n",
       "      <th>bathrooms</th>\n",
       "      <th>bedrooms</th>\n",
       "      <th>beds</th>\n",
       "      <th>amenities</th>\n",
       "      <th>price</th>\n",
       "      <th>cleaning_fee</th>\n",
       "      <th>instant_bookable</th>\n",
       "      <th>cancellation_policy</th>\n",
       "      <th>require_guest_profile_picture</th>\n",
       "      <th>require_guest_phone_verification</th>\n",
       "      <th>minimum_nights</th>\n",
       "      <th>price_log</th>\n",
       "    </tr>\n",
       "  </thead>\n",
       "  <tbody>\n",
       "    <tr>\n",
       "      <th>2</th>\n",
       "      <td>t</td>\n",
       "      <td>t</td>\n",
       "      <td>t</td>\n",
       "      <td>Acton</td>\n",
       "      <td>Acton</td>\n",
       "      <td>CA</td>\n",
       "      <td>93510</td>\n",
       "      <td>Acton, CA</td>\n",
       "      <td>34.510130</td>\n",
       "      <td>-118.212407</td>\n",
       "      <td>House</td>\n",
       "      <td>Private room</td>\n",
       "      <td>2</td>\n",
       "      <td>1.0</td>\n",
       "      <td>1.0</td>\n",
       "      <td>1.0</td>\n",
       "      <td>{\"Wireless Internet\",\"Air conditioning\",\"Wheel...</td>\n",
       "      <td>55</td>\n",
       "      <td>NaN</td>\n",
       "      <td>f</td>\n",
       "      <td>flexible</td>\n",
       "      <td>f</td>\n",
       "      <td>f</td>\n",
       "      <td>1</td>\n",
       "      <td>5.807355</td>\n",
       "    </tr>\n",
       "    <tr>\n",
       "      <th>3</th>\n",
       "      <td>t</td>\n",
       "      <td>t</td>\n",
       "      <td>f</td>\n",
       "      <td>Acton</td>\n",
       "      <td>Acton</td>\n",
       "      <td>CA</td>\n",
       "      <td>93510</td>\n",
       "      <td>Acton, CA</td>\n",
       "      <td>34.515486</td>\n",
       "      <td>-118.230742</td>\n",
       "      <td>Other</td>\n",
       "      <td>Entire home/apt</td>\n",
       "      <td>6</td>\n",
       "      <td>1.0</td>\n",
       "      <td>1.0</td>\n",
       "      <td>3.0</td>\n",
       "      <td>{TV,\"Wireless Internet\",\"Air conditioning\",Poo...</td>\n",
       "      <td>150</td>\n",
       "      <td>35.0</td>\n",
       "      <td>t</td>\n",
       "      <td>flexible</td>\n",
       "      <td>f</td>\n",
       "      <td>f</td>\n",
       "      <td>1</td>\n",
       "      <td>7.238405</td>\n",
       "    </tr>\n",
       "    <tr>\n",
       "      <th>4</th>\n",
       "      <td>f</td>\n",
       "      <td>t</td>\n",
       "      <td>t</td>\n",
       "      <td>Adams-Normandie</td>\n",
       "      <td>Los Angeles</td>\n",
       "      <td>CA</td>\n",
       "      <td>90007</td>\n",
       "      <td>Los Angeles, CA</td>\n",
       "      <td>34.031419</td>\n",
       "      <td>-118.299016</td>\n",
       "      <td>Apartment</td>\n",
       "      <td>Private room</td>\n",
       "      <td>1</td>\n",
       "      <td>1.0</td>\n",
       "      <td>1.0</td>\n",
       "      <td>1.0</td>\n",
       "      <td>{Internet,\"Wireless Internet\",Kitchen,\"Free pa...</td>\n",
       "      <td>30</td>\n",
       "      <td>5.0</td>\n",
       "      <td>f</td>\n",
       "      <td>flexible</td>\n",
       "      <td>f</td>\n",
       "      <td>f</td>\n",
       "      <td>1</td>\n",
       "      <td>4.954196</td>\n",
       "    </tr>\n",
       "  </tbody>\n",
       "</table>\n",
       "</div>"
      ],
      "text/plain": [
       "  host_is_superhost host_has_profile_pic host_identity_verified  \\\n",
       "2                 t                    t                      t   \n",
       "3                 t                    t                      f   \n",
       "4                 f                    t                      t   \n",
       "\n",
       "  neighbourhood_cleansed         city state zipcode   smart_location  \\\n",
       "2                  Acton        Acton    CA   93510        Acton, CA   \n",
       "3                  Acton        Acton    CA   93510        Acton, CA   \n",
       "4        Adams-Normandie  Los Angeles    CA   90007  Los Angeles, CA   \n",
       "\n",
       "    latitude   longitude property_type        room_type  accommodates  \\\n",
       "2  34.510130 -118.212407         House     Private room             2   \n",
       "3  34.515486 -118.230742         Other  Entire home/apt             6   \n",
       "4  34.031419 -118.299016     Apartment     Private room             1   \n",
       "\n",
       "   bathrooms  bedrooms  beds  \\\n",
       "2        1.0       1.0   1.0   \n",
       "3        1.0       1.0   3.0   \n",
       "4        1.0       1.0   1.0   \n",
       "\n",
       "                                           amenities  price  cleaning_fee  \\\n",
       "2  {\"Wireless Internet\",\"Air conditioning\",\"Wheel...     55           NaN   \n",
       "3  {TV,\"Wireless Internet\",\"Air conditioning\",Poo...    150          35.0   \n",
       "4  {Internet,\"Wireless Internet\",Kitchen,\"Free pa...     30           5.0   \n",
       "\n",
       "  instant_bookable cancellation_policy require_guest_profile_picture  \\\n",
       "2                f            flexible                             f   \n",
       "3                t            flexible                             f   \n",
       "4                f            flexible                             f   \n",
       "\n",
       "  require_guest_phone_verification  minimum_nights  price_log  \n",
       "2                                f               1   5.807355  \n",
       "3                                f               1   7.238405  \n",
       "4                                f               1   4.954196  "
      ]
     },
     "execution_count": 28,
     "metadata": {},
     "output_type": "execute_result"
    }
   ],
   "source": [
    "df3.head(3)"
   ]
  },
  {
   "cell_type": "code",
   "execution_count": 29,
   "id": "92a9b482",
   "metadata": {},
   "outputs": [
    {
     "name": "stderr",
     "output_type": "stream",
     "text": [
      "C:\\Users\\ADMIN\\anaconda3\\lib\\site-packages\\seaborn\\distributions.py:2557: FutureWarning: `distplot` is a deprecated function and will be removed in a future version. Please adapt your code to use either `displot` (a figure-level function with similar flexibility) or `histplot` (an axes-level function for histograms).\n",
      "  warnings.warn(msg, FutureWarning)\n"
     ]
    },
    {
     "data": {
      "image/png": "[encoded data removed]",
      "text/plain": [
       "<Figure size 432x288 with 1 Axes>"
      ]
     },
     "metadata": {
      "needs_background": "light"
     },
     "output_type": "display_data"
    }
   ],
   "source": [
    "# The data is distributed normally after taking log\n",
    "\n",
    "sns.distplot(df3['price_log'], hist=True, kde=True, \n",
    "              color = 'green', \n",
    "              hist_kws={'edgecolor':'black'}, \n",
    "              kde_kws={'linewidth': 4}, bins = 20)\n",
    "plt.xlabel('Price_log')\n",
    "plt.show()"
   ]
  },
  {
   "cell_type": "code",
   "execution_count": 30,
   "id": "3dec5fb1",
   "metadata": {},
   "outputs": [
    {
     "data": {
      "text/plain": [
       "2    {\"Wireless Internet\",\"Air conditioning\",\"Wheel...\n",
       "3    {TV,\"Wireless Internet\",\"Air conditioning\",Poo...\n",
       "4    {Internet,\"Wireless Internet\",Kitchen,\"Free pa...\n",
       "6    {Internet,\"Wireless Internet\",\"Free parking on...\n",
       "8    {TV,\"Wireless Internet\",\"Air conditioning\",Kit...\n",
       "Name: amenities, dtype: object"
      ]
     },
     "execution_count": 30,
     "metadata": {},
     "output_type": "execute_result"
    }
   ],
   "source": [
    "df3.amenities.head()"
   ]
  },
  {
   "cell_type": "code",
   "execution_count": 31,
   "id": "37e9c179",
   "metadata": {},
   "outputs": [
    {
     "name": "stderr",
     "output_type": "stream",
     "text": [
      "<ipython-input-31-30da7c7d6f1a>:2: SettingWithCopyWarning: \n",
      "A value is trying to be set on a copy of a slice from a DataFrame.\n",
      "Try using .loc[row_indexer,col_indexer] = value instead\n",
      "\n",
      "See the caveats in the documentation: https://pandas.pydata.org/pandas-docs/stable/user_guide/indexing.html#returning-a-view-versus-a-copy\n",
      "  df3[\"amenities_new\"] = df3[\"amenities\"].apply(lambda x: str(x))\n"
     ]
    }
   ],
   "source": [
    "#df3.loc['amenities_new'] = df3[\"amenities\"].astype(str)\n",
    "df3[\"amenities_new\"] = df3[\"amenities\"].apply(lambda x: str(x))"
   ]
  },
  {
   "cell_type": "code",
   "execution_count": 32,
   "id": "3b7fe378",
   "metadata": {},
   "outputs": [
    {
     "data": {
      "text/plain": [
       "host_is_superhost                    object\n",
       "host_has_profile_pic                 object\n",
       "host_identity_verified               object\n",
       "neighbourhood_cleansed               object\n",
       "city                                 object\n",
       "state                                object\n",
       "zipcode                              object\n",
       "smart_location                       object\n",
       "latitude                            float64\n",
       "longitude                           float64\n",
       "property_type                        object\n",
       "room_type                            object\n",
       "accommodates                          int64\n",
       "bathrooms                           float64\n",
       "bedrooms                            float64\n",
       "beds                                float64\n",
       "amenities                            object\n",
       "price                                 int64\n",
       "cleaning_fee                        float64\n",
       "instant_bookable                     object\n",
       "cancellation_policy                  object\n",
       "require_guest_profile_picture        object\n",
       "require_guest_phone_verification     object\n",
       "minimum_nights                        int64\n",
       "price_log                           float64\n",
       "amenities_new                        object\n",
       "dtype: object"
      ]
     },
     "execution_count": 32,
     "metadata": {},
     "output_type": "execute_result"
    }
   ],
   "source": [
    "df3.dtypes"
   ]
  },
  {
   "cell_type": "code",
   "execution_count": 33,
   "id": "656f37db",
   "metadata": {},
   "outputs": [
    {
     "data": {
      "text/html": [
       "<div>\n",
       "<style scoped>\n",
       "    .dataframe tbody tr th:only-of-type {\n",
       "        vertical-align: middle;\n",
       "    }\n",
       "\n",
       "    .dataframe tbody tr th {\n",
       "        vertical-align: top;\n",
       "    }\n",
       "\n",
       "    .dataframe thead th {\n",
       "        text-align: right;\n",
       "    }\n",
       "</style>\n",
       "<table border=\"1\" class=\"dataframe\">\n",
       "  <thead>\n",
       "    <tr style=\"text-align: right;\">\n",
       "      <th></th>\n",
       "      <th>host_is_superhost</th>\n",
       "      <th>host_has_profile_pic</th>\n",
       "      <th>host_identity_verified</th>\n",
       "      <th>neighbourhood_cleansed</th>\n",
       "      <th>city</th>\n",
       "      <th>state</th>\n",
       "      <th>zipcode</th>\n",
       "      <th>smart_location</th>\n",
       "      <th>latitude</th>\n",
       "      <th>longitude</th>\n",
       "      <th>property_type</th>\n",
       "      <th>room_type</th>\n",
       "      <th>accommodates</th>\n",
       "      <th>bathrooms</th>\n",
       "      <th>bedrooms</th>\n",
       "      <th>beds</th>\n",
       "      <th>amenities</th>\n",
       "      <th>price</th>\n",
       "      <th>cleaning_fee</th>\n",
       "      <th>instant_bookable</th>\n",
       "      <th>cancellation_policy</th>\n",
       "      <th>require_guest_profile_picture</th>\n",
       "      <th>require_guest_phone_verification</th>\n",
       "      <th>minimum_nights</th>\n",
       "      <th>price_log</th>\n",
       "      <th>amenities_new</th>\n",
       "    </tr>\n",
       "  </thead>\n",
       "  <tbody>\n",
       "    <tr>\n",
       "      <th>2</th>\n",
       "      <td>t</td>\n",
       "      <td>t</td>\n",
       "      <td>t</td>\n",
       "      <td>Acton</td>\n",
       "      <td>Acton</td>\n",
       "      <td>CA</td>\n",
       "      <td>93510</td>\n",
       "      <td>Acton, CA</td>\n",
       "      <td>34.510130</td>\n",
       "      <td>-118.212407</td>\n",
       "      <td>House</td>\n",
       "      <td>Private room</td>\n",
       "      <td>2</td>\n",
       "      <td>1.0</td>\n",
       "      <td>1.0</td>\n",
       "      <td>1.0</td>\n",
       "      <td>{\"Wireless Internet\",\"Air conditioning\",\"Wheel...</td>\n",
       "      <td>55</td>\n",
       "      <td>NaN</td>\n",
       "      <td>f</td>\n",
       "      <td>flexible</td>\n",
       "      <td>f</td>\n",
       "      <td>f</td>\n",
       "      <td>1</td>\n",
       "      <td>5.807355</td>\n",
       "      <td>{\"Wireless Internet\",\"Air conditioning\",\"Wheel...</td>\n",
       "    </tr>\n",
       "    <tr>\n",
       "      <th>3</th>\n",
       "      <td>t</td>\n",
       "      <td>t</td>\n",
       "      <td>f</td>\n",
       "      <td>Acton</td>\n",
       "      <td>Acton</td>\n",
       "      <td>CA</td>\n",
       "      <td>93510</td>\n",
       "      <td>Acton, CA</td>\n",
       "      <td>34.515486</td>\n",
       "      <td>-118.230742</td>\n",
       "      <td>Other</td>\n",
       "      <td>Entire home/apt</td>\n",
       "      <td>6</td>\n",
       "      <td>1.0</td>\n",
       "      <td>1.0</td>\n",
       "      <td>3.0</td>\n",
       "      <td>{TV,\"Wireless Internet\",\"Air conditioning\",Poo...</td>\n",
       "      <td>150</td>\n",
       "      <td>35.0</td>\n",
       "      <td>t</td>\n",
       "      <td>flexible</td>\n",
       "      <td>f</td>\n",
       "      <td>f</td>\n",
       "      <td>1</td>\n",
       "      <td>7.238405</td>\n",
       "      <td>{TV,\"Wireless Internet\",\"Air conditioning\",Poo...</td>\n",
       "    </tr>\n",
       "    <tr>\n",
       "      <th>4</th>\n",
       "      <td>f</td>\n",
       "      <td>t</td>\n",
       "      <td>t</td>\n",
       "      <td>Adams-Normandie</td>\n",
       "      <td>Los Angeles</td>\n",
       "      <td>CA</td>\n",
       "      <td>90007</td>\n",
       "      <td>Los Angeles, CA</td>\n",
       "      <td>34.031419</td>\n",
       "      <td>-118.299016</td>\n",
       "      <td>Apartment</td>\n",
       "      <td>Private room</td>\n",
       "      <td>1</td>\n",
       "      <td>1.0</td>\n",
       "      <td>1.0</td>\n",
       "      <td>1.0</td>\n",
       "      <td>{Internet,\"Wireless Internet\",Kitchen,\"Free pa...</td>\n",
       "      <td>30</td>\n",
       "      <td>5.0</td>\n",
       "      <td>f</td>\n",
       "      <td>flexible</td>\n",
       "      <td>f</td>\n",
       "      <td>f</td>\n",
       "      <td>1</td>\n",
       "      <td>4.954196</td>\n",
       "      <td>{Internet,\"Wireless Internet\",Kitchen,\"Free pa...</td>\n",
       "    </tr>\n",
       "    <tr>\n",
       "      <th>6</th>\n",
       "      <td>t</td>\n",
       "      <td>t</td>\n",
       "      <td>t</td>\n",
       "      <td>Adams-Normandie</td>\n",
       "      <td>Los Angeles</td>\n",
       "      <td>CA</td>\n",
       "      <td>90007</td>\n",
       "      <td>Los Angeles, CA</td>\n",
       "      <td>34.032502</td>\n",
       "      <td>-118.297748</td>\n",
       "      <td>House</td>\n",
       "      <td>Private room</td>\n",
       "      <td>2</td>\n",
       "      <td>1.0</td>\n",
       "      <td>1.0</td>\n",
       "      <td>1.0</td>\n",
       "      <td>{Internet,\"Wireless Internet\",\"Free parking on...</td>\n",
       "      <td>45</td>\n",
       "      <td>5.0</td>\n",
       "      <td>f</td>\n",
       "      <td>moderate</td>\n",
       "      <td>f</td>\n",
       "      <td>f</td>\n",
       "      <td>1</td>\n",
       "      <td>5.523562</td>\n",
       "      <td>{Internet,\"Wireless Internet\",\"Free parking on...</td>\n",
       "    </tr>\n",
       "    <tr>\n",
       "      <th>8</th>\n",
       "      <td>f</td>\n",
       "      <td>t</td>\n",
       "      <td>t</td>\n",
       "      <td>Adams-Normandie</td>\n",
       "      <td>Los Angeles</td>\n",
       "      <td>CA</td>\n",
       "      <td>90007</td>\n",
       "      <td>Los Angeles, CA</td>\n",
       "      <td>34.035359</td>\n",
       "      <td>-118.299137</td>\n",
       "      <td>House</td>\n",
       "      <td>Entire home/apt</td>\n",
       "      <td>2</td>\n",
       "      <td>1.5</td>\n",
       "      <td>2.0</td>\n",
       "      <td>1.0</td>\n",
       "      <td>{TV,\"Wireless Internet\",\"Air conditioning\",Kit...</td>\n",
       "      <td>350</td>\n",
       "      <td>NaN</td>\n",
       "      <td>f</td>\n",
       "      <td>flexible</td>\n",
       "      <td>f</td>\n",
       "      <td>f</td>\n",
       "      <td>1</td>\n",
       "      <td>8.455327</td>\n",
       "      <td>{TV,\"Wireless Internet\",\"Air conditioning\",Kit...</td>\n",
       "    </tr>\n",
       "  </tbody>\n",
       "</table>\n",
       "</div>"
      ],
      "text/plain": [
       "  host_is_superhost host_has_profile_pic host_identity_verified  \\\n",
       "2                 t                    t                      t   \n",
       "3                 t                    t                      f   \n",
       "4                 f                    t                      t   \n",
       "6                 t                    t                      t   \n",
       "8                 f                    t                      t   \n",
       "\n",
       "  neighbourhood_cleansed         city state zipcode   smart_location  \\\n",
       "2                  Acton        Acton    CA   93510        Acton, CA   \n",
       "3                  Acton        Acton    CA   93510        Acton, CA   \n",
       "4        Adams-Normandie  Los Angeles    CA   90007  Los Angeles, CA   \n",
       "6        Adams-Normandie  Los Angeles    CA   90007  Los Angeles, CA   \n",
       "8        Adams-Normandie  Los Angeles    CA   90007  Los Angeles, CA   \n",
       "\n",
       "    latitude   longitude property_type        room_type  accommodates  \\\n",
       "2  34.510130 -118.212407         House     Private room             2   \n",
       "3  34.515486 -118.230742         Other  Entire home/apt             6   \n",
       "4  34.031419 -118.299016     Apartment     Private room             1   \n",
       "6  34.032502 -118.297748         House     Private room             2   \n",
       "8  34.035359 -118.299137         House  Entire home/apt             2   \n",
       "\n",
       "   bathrooms  bedrooms  beds  \\\n",
       "2        1.0       1.0   1.0   \n",
       "3        1.0       1.0   3.0   \n",
       "4        1.0       1.0   1.0   \n",
       "6        1.0       1.0   1.0   \n",
       "8        1.5       2.0   1.0   \n",
       "\n",
       "                                           amenities  price  cleaning_fee  \\\n",
       "2  {\"Wireless Internet\",\"Air conditioning\",\"Wheel...     55           NaN   \n",
       "3  {TV,\"Wireless Internet\",\"Air conditioning\",Poo...    150          35.0   \n",
       "4  {Internet,\"Wireless Internet\",Kitchen,\"Free pa...     30           5.0   \n",
       "6  {Internet,\"Wireless Internet\",\"Free parking on...     45           5.0   \n",
       "8  {TV,\"Wireless Internet\",\"Air conditioning\",Kit...    350           NaN   \n",
       "\n",
       "  instant_bookable cancellation_policy require_guest_profile_picture  \\\n",
       "2                f            flexible                             f   \n",
       "3                t            flexible                             f   \n",
       "4                f            flexible                             f   \n",
       "6                f            moderate                             f   \n",
       "8                f            flexible                             f   \n",
       "\n",
       "  require_guest_phone_verification  minimum_nights  price_log  \\\n",
       "2                                f               1   5.807355   \n",
       "3                                f               1   7.238405   \n",
       "4                                f               1   4.954196   \n",
       "6                                f               1   5.523562   \n",
       "8                                f               1   8.455327   \n",
       "\n",
       "                                       amenities_new  \n",
       "2  {\"Wireless Internet\",\"Air conditioning\",\"Wheel...  \n",
       "3  {TV,\"Wireless Internet\",\"Air conditioning\",Poo...  \n",
       "4  {Internet,\"Wireless Internet\",Kitchen,\"Free pa...  \n",
       "6  {Internet,\"Wireless Internet\",\"Free parking on...  \n",
       "8  {TV,\"Wireless Internet\",\"Air conditioning\",Kit...  "
      ]
     },
     "execution_count": 33,
     "metadata": {},
     "output_type": "execute_result"
    }
   ],
   "source": [
    "df3.head()"
   ]
  },
  {
   "cell_type": "code",
   "execution_count": 34,
   "id": "05bef3c5",
   "metadata": {},
   "outputs": [
    {
     "name": "stderr",
     "output_type": "stream",
     "text": [
      "<ipython-input-34-fcfff70d7852>:1: SettingWithCopyWarning: \n",
      "A value is trying to be set on a copy of a slice from a DataFrame.\n",
      "Try using .loc[row_indexer,col_indexer] = value instead\n",
      "\n",
      "See the caveats in the documentation: https://pandas.pydata.org/pandas-docs/stable/user_guide/indexing.html#returning-a-view-versus-a-copy\n",
      "  df3['amenities_new'] = df3['amenities_new'].str.lower() # converting to lower case\n",
      "<ipython-input-34-fcfff70d7852>:2: FutureWarning: The default value of regex will change from True to False in a future version.\n",
      "  df3['amenities_cleaned'] = df3[\"amenities_new\"].str.replace('[^A-Za-z0-9]', ' ')\n",
      "<ipython-input-34-fcfff70d7852>:2: SettingWithCopyWarning: \n",
      "A value is trying to be set on a copy of a slice from a DataFrame.\n",
      "Try using .loc[row_indexer,col_indexer] = value instead\n",
      "\n",
      "See the caveats in the documentation: https://pandas.pydata.org/pandas-docs/stable/user_guide/indexing.html#returning-a-view-versus-a-copy\n",
      "  df3['amenities_cleaned'] = df3[\"amenities_new\"].str.replace('[^A-Za-z0-9]', ' ')\n"
     ]
    }
   ],
   "source": [
    "df3['amenities_new'] = df3['amenities_new'].str.lower() # converting to lower case\n",
    "df3['amenities_cleaned'] = df3[\"amenities_new\"].str.replace('[^A-Za-z0-9]', ' ')"
   ]
  },
  {
   "cell_type": "code",
   "execution_count": 35,
   "id": "0c8adacd",
   "metadata": {},
   "outputs": [
    {
     "data": {
      "text/html": [
       "<div>\n",
       "<style scoped>\n",
       "    .dataframe tbody tr th:only-of-type {\n",
       "        vertical-align: middle;\n",
       "    }\n",
       "\n",
       "    .dataframe tbody tr th {\n",
       "        vertical-align: top;\n",
       "    }\n",
       "\n",
       "    .dataframe thead th {\n",
       "        text-align: right;\n",
       "    }\n",
       "</style>\n",
       "<table border=\"1\" class=\"dataframe\">\n",
       "  <thead>\n",
       "    <tr style=\"text-align: right;\">\n",
       "      <th></th>\n",
       "      <th>host_is_superhost</th>\n",
       "      <th>host_has_profile_pic</th>\n",
       "      <th>host_identity_verified</th>\n",
       "      <th>neighbourhood_cleansed</th>\n",
       "      <th>city</th>\n",
       "      <th>state</th>\n",
       "      <th>zipcode</th>\n",
       "      <th>smart_location</th>\n",
       "      <th>latitude</th>\n",
       "      <th>longitude</th>\n",
       "      <th>property_type</th>\n",
       "      <th>room_type</th>\n",
       "      <th>accommodates</th>\n",
       "      <th>bathrooms</th>\n",
       "      <th>bedrooms</th>\n",
       "      <th>beds</th>\n",
       "      <th>amenities</th>\n",
       "      <th>price</th>\n",
       "      <th>cleaning_fee</th>\n",
       "      <th>instant_bookable</th>\n",
       "      <th>cancellation_policy</th>\n",
       "      <th>require_guest_profile_picture</th>\n",
       "      <th>require_guest_phone_verification</th>\n",
       "      <th>minimum_nights</th>\n",
       "      <th>price_log</th>\n",
       "      <th>amenities_new</th>\n",
       "      <th>amenities_cleaned</th>\n",
       "    </tr>\n",
       "  </thead>\n",
       "  <tbody>\n",
       "    <tr>\n",
       "      <th>2</th>\n",
       "      <td>t</td>\n",
       "      <td>t</td>\n",
       "      <td>t</td>\n",
       "      <td>Acton</td>\n",
       "      <td>Acton</td>\n",
       "      <td>CA</td>\n",
       "      <td>93510</td>\n",
       "      <td>Acton, CA</td>\n",
       "      <td>34.510130</td>\n",
       "      <td>-118.212407</td>\n",
       "      <td>House</td>\n",
       "      <td>Private room</td>\n",
       "      <td>2</td>\n",
       "      <td>1.0</td>\n",
       "      <td>1.0</td>\n",
       "      <td>1.0</td>\n",
       "      <td>{\"Wireless Internet\",\"Air conditioning\",\"Wheel...</td>\n",
       "      <td>55</td>\n",
       "      <td>NaN</td>\n",
       "      <td>f</td>\n",
       "      <td>flexible</td>\n",
       "      <td>f</td>\n",
       "      <td>f</td>\n",
       "      <td>1</td>\n",
       "      <td>5.807355</td>\n",
       "      <td>{\"wireless internet\",\"air conditioning\",\"wheel...</td>\n",
       "      <td>wireless internet   air conditioning   wheel...</td>\n",
       "    </tr>\n",
       "    <tr>\n",
       "      <th>3</th>\n",
       "      <td>t</td>\n",
       "      <td>t</td>\n",
       "      <td>f</td>\n",
       "      <td>Acton</td>\n",
       "      <td>Acton</td>\n",
       "      <td>CA</td>\n",
       "      <td>93510</td>\n",
       "      <td>Acton, CA</td>\n",
       "      <td>34.515486</td>\n",
       "      <td>-118.230742</td>\n",
       "      <td>Other</td>\n",
       "      <td>Entire home/apt</td>\n",
       "      <td>6</td>\n",
       "      <td>1.0</td>\n",
       "      <td>1.0</td>\n",
       "      <td>3.0</td>\n",
       "      <td>{TV,\"Wireless Internet\",\"Air conditioning\",Poo...</td>\n",
       "      <td>150</td>\n",
       "      <td>35.0</td>\n",
       "      <td>t</td>\n",
       "      <td>flexible</td>\n",
       "      <td>f</td>\n",
       "      <td>f</td>\n",
       "      <td>1</td>\n",
       "      <td>7.238405</td>\n",
       "      <td>{tv,\"wireless internet\",\"air conditioning\",poo...</td>\n",
       "      <td>tv  wireless internet   air conditioning  poo...</td>\n",
       "    </tr>\n",
       "    <tr>\n",
       "      <th>4</th>\n",
       "      <td>f</td>\n",
       "      <td>t</td>\n",
       "      <td>t</td>\n",
       "      <td>Adams-Normandie</td>\n",
       "      <td>Los Angeles</td>\n",
       "      <td>CA</td>\n",
       "      <td>90007</td>\n",
       "      <td>Los Angeles, CA</td>\n",
       "      <td>34.031419</td>\n",
       "      <td>-118.299016</td>\n",
       "      <td>Apartment</td>\n",
       "      <td>Private room</td>\n",
       "      <td>1</td>\n",
       "      <td>1.0</td>\n",
       "      <td>1.0</td>\n",
       "      <td>1.0</td>\n",
       "      <td>{Internet,\"Wireless Internet\",Kitchen,\"Free pa...</td>\n",
       "      <td>30</td>\n",
       "      <td>5.0</td>\n",
       "      <td>f</td>\n",
       "      <td>flexible</td>\n",
       "      <td>f</td>\n",
       "      <td>f</td>\n",
       "      <td>1</td>\n",
       "      <td>4.954196</td>\n",
       "      <td>{internet,\"wireless internet\",kitchen,\"free pa...</td>\n",
       "      <td>internet  wireless internet  kitchen  free pa...</td>\n",
       "    </tr>\n",
       "    <tr>\n",
       "      <th>6</th>\n",
       "      <td>t</td>\n",
       "      <td>t</td>\n",
       "      <td>t</td>\n",
       "      <td>Adams-Normandie</td>\n",
       "      <td>Los Angeles</td>\n",
       "      <td>CA</td>\n",
       "      <td>90007</td>\n",
       "      <td>Los Angeles, CA</td>\n",
       "      <td>34.032502</td>\n",
       "      <td>-118.297748</td>\n",
       "      <td>House</td>\n",
       "      <td>Private room</td>\n",
       "      <td>2</td>\n",
       "      <td>1.0</td>\n",
       "      <td>1.0</td>\n",
       "      <td>1.0</td>\n",
       "      <td>{Internet,\"Wireless Internet\",\"Free parking on...</td>\n",
       "      <td>45</td>\n",
       "      <td>5.0</td>\n",
       "      <td>f</td>\n",
       "      <td>moderate</td>\n",
       "      <td>f</td>\n",
       "      <td>f</td>\n",
       "      <td>1</td>\n",
       "      <td>5.523562</td>\n",
       "      <td>{internet,\"wireless internet\",\"free parking on...</td>\n",
       "      <td>internet  wireless internet   free parking on...</td>\n",
       "    </tr>\n",
       "    <tr>\n",
       "      <th>8</th>\n",
       "      <td>f</td>\n",
       "      <td>t</td>\n",
       "      <td>t</td>\n",
       "      <td>Adams-Normandie</td>\n",
       "      <td>Los Angeles</td>\n",
       "      <td>CA</td>\n",
       "      <td>90007</td>\n",
       "      <td>Los Angeles, CA</td>\n",
       "      <td>34.035359</td>\n",
       "      <td>-118.299137</td>\n",
       "      <td>House</td>\n",
       "      <td>Entire home/apt</td>\n",
       "      <td>2</td>\n",
       "      <td>1.5</td>\n",
       "      <td>2.0</td>\n",
       "      <td>1.0</td>\n",
       "      <td>{TV,\"Wireless Internet\",\"Air conditioning\",Kit...</td>\n",
       "      <td>350</td>\n",
       "      <td>NaN</td>\n",
       "      <td>f</td>\n",
       "      <td>flexible</td>\n",
       "      <td>f</td>\n",
       "      <td>f</td>\n",
       "      <td>1</td>\n",
       "      <td>8.455327</td>\n",
       "      <td>{tv,\"wireless internet\",\"air conditioning\",kit...</td>\n",
       "      <td>tv  wireless internet   air conditioning  kit...</td>\n",
       "    </tr>\n",
       "  </tbody>\n",
       "</table>\n",
       "</div>"
      ],
      "text/plain": [
       "  host_is_superhost host_has_profile_pic host_identity_verified  \\\n",
       "2                 t                    t                      t   \n",
       "3                 t                    t                      f   \n",
       "4                 f                    t                      t   \n",
       "6                 t                    t                      t   \n",
       "8                 f                    t                      t   \n",
       "\n",
       "  neighbourhood_cleansed         city state zipcode   smart_location  \\\n",
       "2                  Acton        Acton    CA   93510        Acton, CA   \n",
       "3                  Acton        Acton    CA   93510        Acton, CA   \n",
       "4        Adams-Normandie  Los Angeles    CA   90007  Los Angeles, CA   \n",
       "6        Adams-Normandie  Los Angeles    CA   90007  Los Angeles, CA   \n",
       "8        Adams-Normandie  Los Angeles    CA   90007  Los Angeles, CA   \n",
       "\n",
       "    latitude   longitude property_type        room_type  accommodates  \\\n",
       "2  34.510130 -118.212407         House     Private room             2   \n",
       "3  34.515486 -118.230742         Other  Entire home/apt             6   \n",
       "4  34.031419 -118.299016     Apartment     Private room             1   \n",
       "6  34.032502 -118.297748         House     Private room             2   \n",
       "8  34.035359 -118.299137         House  Entire home/apt             2   \n",
       "\n",
       "   bathrooms  bedrooms  beds  \\\n",
       "2        1.0       1.0   1.0   \n",
       "3        1.0       1.0   3.0   \n",
       "4        1.0       1.0   1.0   \n",
       "6        1.0       1.0   1.0   \n",
       "8        1.5       2.0   1.0   \n",
       "\n",
       "                                           amenities  price  cleaning_fee  \\\n",
       "2  {\"Wireless Internet\",\"Air conditioning\",\"Wheel...     55           NaN   \n",
       "3  {TV,\"Wireless Internet\",\"Air conditioning\",Poo...    150          35.0   \n",
       "4  {Internet,\"Wireless Internet\",Kitchen,\"Free pa...     30           5.0   \n",
       "6  {Internet,\"Wireless Internet\",\"Free parking on...     45           5.0   \n",
       "8  {TV,\"Wireless Internet\",\"Air conditioning\",Kit...    350           NaN   \n",
       "\n",
       "  instant_bookable cancellation_policy require_guest_profile_picture  \\\n",
       "2                f            flexible                             f   \n",
       "3                t            flexible                             f   \n",
       "4                f            flexible                             f   \n",
       "6                f            moderate                             f   \n",
       "8                f            flexible                             f   \n",
       "\n",
       "  require_guest_phone_verification  minimum_nights  price_log  \\\n",
       "2                                f               1   5.807355   \n",
       "3                                f               1   7.238405   \n",
       "4                                f               1   4.954196   \n",
       "6                                f               1   5.523562   \n",
       "8                                f               1   8.455327   \n",
       "\n",
       "                                       amenities_new  \\\n",
       "2  {\"wireless internet\",\"air conditioning\",\"wheel...   \n",
       "3  {tv,\"wireless internet\",\"air conditioning\",poo...   \n",
       "4  {internet,\"wireless internet\",kitchen,\"free pa...   \n",
       "6  {internet,\"wireless internet\",\"free parking on...   \n",
       "8  {tv,\"wireless internet\",\"air conditioning\",kit...   \n",
       "\n",
       "                                   amenities_cleaned  \n",
       "2    wireless internet   air conditioning   wheel...  \n",
       "3   tv  wireless internet   air conditioning  poo...  \n",
       "4   internet  wireless internet  kitchen  free pa...  \n",
       "6   internet  wireless internet   free parking on...  \n",
       "8   tv  wireless internet   air conditioning  kit...  "
      ]
     },
     "execution_count": 35,
     "metadata": {},
     "output_type": "execute_result"
    }
   ],
   "source": [
    "df3.head()"
   ]
  },
  {
   "cell_type": "code",
   "execution_count": 36,
   "id": "319b2808",
   "metadata": {},
   "outputs": [
    {
     "data": {
      "text/plain": [
       "count    9547.000000\n",
       "mean      119.696135\n",
       "std        91.099576\n",
       "min        22.000000\n",
       "25%        65.000000\n",
       "50%        95.000000\n",
       "75%       145.000000\n",
       "max       750.000000\n",
       "Name: price, dtype: float64"
      ]
     },
     "execution_count": 36,
     "metadata": {},
     "output_type": "execute_result"
    }
   ],
   "source": [
    "df3.price.describe()"
   ]
  },
  {
   "cell_type": "code",
   "execution_count": 37,
   "id": "d80e2aa8",
   "metadata": {
    "scrolled": true
   },
   "outputs": [
    {
     "name": "stderr",
     "output_type": "stream",
     "text": [
      "<ipython-input-37-37a5d27c83f5>:3: SettingWithCopyWarning: \n",
      "A value is trying to be set on a copy of a slice from a DataFrame.\n",
      "Try using .loc[row_indexer,col_indexer] = value instead\n",
      "\n",
      "See the caveats in the documentation: https://pandas.pydata.org/pandas-docs/stable/user_guide/indexing.html#returning-a-view-versus-a-copy\n",
      "  df3['Internet'] = [1 if 'internet' in s else 0 for s in df3[\"amenities_new\"]]\n",
      "<ipython-input-37-37a5d27c83f5>:4: SettingWithCopyWarning: \n",
      "A value is trying to be set on a copy of a slice from a DataFrame.\n",
      "Try using .loc[row_indexer,col_indexer] = value instead\n",
      "\n",
      "See the caveats in the documentation: https://pandas.pydata.org/pandas-docs/stable/user_guide/indexing.html#returning-a-view-versus-a-copy\n",
      "  df3['Parking'] = [1 if 'parking' in s else 0 for s in df3[\"amenities_new\"]]\n",
      "<ipython-input-37-37a5d27c83f5>:5: SettingWithCopyWarning: \n",
      "A value is trying to be set on a copy of a slice from a DataFrame.\n",
      "Try using .loc[row_indexer,col_indexer] = value instead\n",
      "\n",
      "See the caveats in the documentation: https://pandas.pydata.org/pandas-docs/stable/user_guide/indexing.html#returning-a-view-versus-a-copy\n",
      "  df3['Breakfast'] = [1 if 'breakfast' in s else 0 for s in df3[\"amenities_new\"]]\n",
      "<ipython-input-37-37a5d27c83f5>:6: SettingWithCopyWarning: \n",
      "A value is trying to be set on a copy of a slice from a DataFrame.\n",
      "Try using .loc[row_indexer,col_indexer] = value instead\n",
      "\n",
      "See the caveats in the documentation: https://pandas.pydata.org/pandas-docs/stable/user_guide/indexing.html#returning-a-view-versus-a-copy\n",
      "  df3['TV'] = [1 if 'tv' in s else 0 for s in df3[\"amenities_new\"]]\n",
      "<ipython-input-37-37a5d27c83f5>:7: SettingWithCopyWarning: \n",
      "A value is trying to be set on a copy of a slice from a DataFrame.\n",
      "Try using .loc[row_indexer,col_indexer] = value instead\n",
      "\n",
      "See the caveats in the documentation: https://pandas.pydata.org/pandas-docs/stable/user_guide/indexing.html#returning-a-view-versus-a-copy\n",
      "  df3['Pool'] = [1 if 'pool' in s else 0 for s in df3[\"amenities_new\"]]\n",
      "<ipython-input-37-37a5d27c83f5>:8: SettingWithCopyWarning: \n",
      "A value is trying to be set on a copy of a slice from a DataFrame.\n",
      "Try using .loc[row_indexer,col_indexer] = value instead\n",
      "\n",
      "See the caveats in the documentation: https://pandas.pydata.org/pandas-docs/stable/user_guide/indexing.html#returning-a-view-versus-a-copy\n",
      "  df3['Kitchen'] = [1 if 'kitchen' in s else 0 for s in df3[\"amenities_new\"]]\n",
      "<ipython-input-37-37a5d27c83f5>:9: SettingWithCopyWarning: \n",
      "A value is trying to be set on a copy of a slice from a DataFrame.\n",
      "Try using .loc[row_indexer,col_indexer] = value instead\n",
      "\n",
      "See the caveats in the documentation: https://pandas.pydata.org/pandas-docs/stable/user_guide/indexing.html#returning-a-view-versus-a-copy\n",
      "  df3['Air_Conditioning'] = [1 if 'air conditioning' in s else 0 for s in df3[\"amenities_new\"]]\n",
      "<ipython-input-37-37a5d27c83f5>:10: SettingWithCopyWarning: \n",
      "A value is trying to be set on a copy of a slice from a DataFrame.\n",
      "Try using .loc[row_indexer,col_indexer] = value instead\n",
      "\n",
      "See the caveats in the documentation: https://pandas.pydata.org/pandas-docs/stable/user_guide/indexing.html#returning-a-view-versus-a-copy\n",
      "  df3['Hot_tub'] = [1 if 'hot tub' in s else 0 for s in df3[\"amenities_new\"]]\n",
      "<ipython-input-37-37a5d27c83f5>:11: SettingWithCopyWarning: \n",
      "A value is trying to be set on a copy of a slice from a DataFrame.\n",
      "Try using .loc[row_indexer,col_indexer] = value instead\n",
      "\n",
      "See the caveats in the documentation: https://pandas.pydata.org/pandas-docs/stable/user_guide/indexing.html#returning-a-view-versus-a-copy\n",
      "  df3['Washer'] = [1 if 'washer' in s else 0 for s in df3[\"amenities_new\"]]\n",
      "<ipython-input-37-37a5d27c83f5>:12: SettingWithCopyWarning: \n",
      "A value is trying to be set on a copy of a slice from a DataFrame.\n",
      "Try using .loc[row_indexer,col_indexer] = value instead\n",
      "\n",
      "See the caveats in the documentation: https://pandas.pydata.org/pandas-docs/stable/user_guide/indexing.html#returning-a-view-versus-a-copy\n",
      "  df3['Dryer'] = [1 if 'dryer' in s else 0 for s in df3[\"amenities_new\"]]\n",
      "<ipython-input-37-37a5d27c83f5>:13: SettingWithCopyWarning: \n",
      "A value is trying to be set on a copy of a slice from a DataFrame.\n",
      "Try using .loc[row_indexer,col_indexer] = value instead\n",
      "\n",
      "See the caveats in the documentation: https://pandas.pydata.org/pandas-docs/stable/user_guide/indexing.html#returning-a-view-versus-a-copy\n",
      "  df3['Gym'] = [1 if 'gym' in s else 0 for s in df3[\"amenities_new\"]]\n",
      "<ipython-input-37-37a5d27c83f5>:17: SettingWithCopyWarning: \n",
      "A value is trying to be set on a copy of a slice from a DataFrame.\n",
      "Try using .loc[row_indexer,col_indexer] = value instead\n",
      "\n",
      "See the caveats in the documentation: https://pandas.pydata.org/pandas-docs/stable/user_guide/indexing.html#returning-a-view-versus-a-copy\n",
      "  df3['price_binned'] = pd.cut(df3['price'], bins,labels=labels)\n"
     ]
    }
   ],
   "source": [
    "# Introducing columns to include essential amenities\n",
    "\n",
    "df3['Internet'] = [1 if 'internet' in s else 0 for s in df3[\"amenities_new\"]]\n",
    "df3['Parking'] = [1 if 'parking' in s else 0 for s in df3[\"amenities_new\"]]\n",
    "df3['Breakfast'] = [1 if 'breakfast' in s else 0 for s in df3[\"amenities_new\"]]\n",
    "df3['TV'] = [1 if 'tv' in s else 0 for s in df3[\"amenities_new\"]]\n",
    "df3['Pool'] = [1 if 'pool' in s else 0 for s in df3[\"amenities_new\"]]\n",
    "df3['Kitchen'] = [1 if 'kitchen' in s else 0 for s in df3[\"amenities_new\"]]\n",
    "df3['Air_Conditioning'] = [1 if 'air conditioning' in s else 0 for s in df3[\"amenities_new\"]]\n",
    "df3['Hot_tub'] = [1 if 'hot tub' in s else 0 for s in df3[\"amenities_new\"]]\n",
    "df3['Washer'] = [1 if 'washer' in s else 0 for s in df3[\"amenities_new\"]]\n",
    "df3['Dryer'] = [1 if 'dryer' in s else 0 for s in df3[\"amenities_new\"]]\n",
    "df3['Gym'] = [1 if 'gym' in s else 0 for s in df3[\"amenities_new\"]]\n",
    "\n",
    "bins = [0, 50, 100, 150, 200, 250, 300, 350, 400, 450, 500, 550, 600, 650, 700, 750]\n",
    "labels =[\"0-50\",\"50-100\",\"100-150\",\"150-200\", \"200-250\", \"250-300\", \"300-350\", \"350-400\", \"400-450\", \"450-500\", \"500-550\", \"550-600\", \"600-650\", \"650-700\", \"700-750\"]\n",
    "df3['price_binned'] = pd.cut(df3['price'], bins,labels=labels)"
   ]
  },
  {
   "cell_type": "code",
   "execution_count": 38,
   "id": "aeabc009",
   "metadata": {},
   "outputs": [
    {
     "data": {
      "text/plain": [
       "1    7157\n",
       "0    2390\n",
       "Name: TV, dtype: int64"
      ]
     },
     "execution_count": 38,
     "metadata": {},
     "output_type": "execute_result"
    }
   ],
   "source": [
    "df3['TV'].value_counts()"
   ]
  },
  {
   "cell_type": "code",
   "execution_count": 39,
   "id": "d31ab46b",
   "metadata": {},
   "outputs": [
    {
     "data": {
      "text/html": [
       "<div>\n",
       "<style scoped>\n",
       "    .dataframe tbody tr th:only-of-type {\n",
       "        vertical-align: middle;\n",
       "    }\n",
       "\n",
       "    .dataframe tbody tr th {\n",
       "        vertical-align: top;\n",
       "    }\n",
       "\n",
       "    .dataframe thead th {\n",
       "        text-align: right;\n",
       "    }\n",
       "</style>\n",
       "<table border=\"1\" class=\"dataframe\">\n",
       "  <thead>\n",
       "    <tr style=\"text-align: right;\">\n",
       "      <th></th>\n",
       "      <th>host_is_superhost</th>\n",
       "      <th>host_has_profile_pic</th>\n",
       "      <th>host_identity_verified</th>\n",
       "      <th>neighbourhood_cleansed</th>\n",
       "      <th>city</th>\n",
       "      <th>state</th>\n",
       "      <th>zipcode</th>\n",
       "      <th>smart_location</th>\n",
       "      <th>latitude</th>\n",
       "      <th>longitude</th>\n",
       "      <th>property_type</th>\n",
       "      <th>room_type</th>\n",
       "      <th>accommodates</th>\n",
       "      <th>bathrooms</th>\n",
       "      <th>bedrooms</th>\n",
       "      <th>beds</th>\n",
       "      <th>amenities</th>\n",
       "      <th>price</th>\n",
       "      <th>cleaning_fee</th>\n",
       "      <th>instant_bookable</th>\n",
       "      <th>cancellation_policy</th>\n",
       "      <th>require_guest_profile_picture</th>\n",
       "      <th>require_guest_phone_verification</th>\n",
       "      <th>minimum_nights</th>\n",
       "      <th>price_log</th>\n",
       "      <th>amenities_new</th>\n",
       "      <th>amenities_cleaned</th>\n",
       "      <th>Internet</th>\n",
       "      <th>Parking</th>\n",
       "      <th>Breakfast</th>\n",
       "      <th>TV</th>\n",
       "      <th>Pool</th>\n",
       "      <th>Kitchen</th>\n",
       "      <th>Air_Conditioning</th>\n",
       "      <th>Hot_tub</th>\n",
       "      <th>Washer</th>\n",
       "      <th>Dryer</th>\n",
       "      <th>Gym</th>\n",
       "      <th>price_binned</th>\n",
       "    </tr>\n",
       "  </thead>\n",
       "  <tbody>\n",
       "    <tr>\n",
       "      <th>2</th>\n",
       "      <td>t</td>\n",
       "      <td>t</td>\n",
       "      <td>t</td>\n",
       "      <td>Acton</td>\n",
       "      <td>Acton</td>\n",
       "      <td>CA</td>\n",
       "      <td>93510</td>\n",
       "      <td>Acton, CA</td>\n",
       "      <td>34.510130</td>\n",
       "      <td>-118.212407</td>\n",
       "      <td>House</td>\n",
       "      <td>Private room</td>\n",
       "      <td>2</td>\n",
       "      <td>1.0</td>\n",
       "      <td>1.0</td>\n",
       "      <td>1.0</td>\n",
       "      <td>{\"Wireless Internet\",\"Air conditioning\",\"Wheel...</td>\n",
       "      <td>55</td>\n",
       "      <td>NaN</td>\n",
       "      <td>f</td>\n",
       "      <td>flexible</td>\n",
       "      <td>f</td>\n",
       "      <td>f</td>\n",
       "      <td>1</td>\n",
       "      <td>5.807355</td>\n",
       "      <td>{\"wireless internet\",\"air conditioning\",\"wheel...</td>\n",
       "      <td>wireless internet   air conditioning   wheel...</td>\n",
       "      <td>1</td>\n",
       "      <td>1</td>\n",
       "      <td>0</td>\n",
       "      <td>0</td>\n",
       "      <td>0</td>\n",
       "      <td>1</td>\n",
       "      <td>1</td>\n",
       "      <td>0</td>\n",
       "      <td>1</td>\n",
       "      <td>1</td>\n",
       "      <td>0</td>\n",
       "      <td>50-100</td>\n",
       "    </tr>\n",
       "    <tr>\n",
       "      <th>3</th>\n",
       "      <td>t</td>\n",
       "      <td>t</td>\n",
       "      <td>f</td>\n",
       "      <td>Acton</td>\n",
       "      <td>Acton</td>\n",
       "      <td>CA</td>\n",
       "      <td>93510</td>\n",
       "      <td>Acton, CA</td>\n",
       "      <td>34.515486</td>\n",
       "      <td>-118.230742</td>\n",
       "      <td>Other</td>\n",
       "      <td>Entire home/apt</td>\n",
       "      <td>6</td>\n",
       "      <td>1.0</td>\n",
       "      <td>1.0</td>\n",
       "      <td>3.0</td>\n",
       "      <td>{TV,\"Wireless Internet\",\"Air conditioning\",Poo...</td>\n",
       "      <td>150</td>\n",
       "      <td>35.0</td>\n",
       "      <td>t</td>\n",
       "      <td>flexible</td>\n",
       "      <td>f</td>\n",
       "      <td>f</td>\n",
       "      <td>1</td>\n",
       "      <td>7.238405</td>\n",
       "      <td>{tv,\"wireless internet\",\"air conditioning\",poo...</td>\n",
       "      <td>tv  wireless internet   air conditioning  poo...</td>\n",
       "      <td>1</td>\n",
       "      <td>1</td>\n",
       "      <td>1</td>\n",
       "      <td>1</td>\n",
       "      <td>1</td>\n",
       "      <td>1</td>\n",
       "      <td>1</td>\n",
       "      <td>1</td>\n",
       "      <td>1</td>\n",
       "      <td>1</td>\n",
       "      <td>0</td>\n",
       "      <td>100-150</td>\n",
       "    </tr>\n",
       "    <tr>\n",
       "      <th>4</th>\n",
       "      <td>f</td>\n",
       "      <td>t</td>\n",
       "      <td>t</td>\n",
       "      <td>Adams-Normandie</td>\n",
       "      <td>Los Angeles</td>\n",
       "      <td>CA</td>\n",
       "      <td>90007</td>\n",
       "      <td>Los Angeles, CA</td>\n",
       "      <td>34.031419</td>\n",
       "      <td>-118.299016</td>\n",
       "      <td>Apartment</td>\n",
       "      <td>Private room</td>\n",
       "      <td>1</td>\n",
       "      <td>1.0</td>\n",
       "      <td>1.0</td>\n",
       "      <td>1.0</td>\n",
       "      <td>{Internet,\"Wireless Internet\",Kitchen,\"Free pa...</td>\n",
       "      <td>30</td>\n",
       "      <td>5.0</td>\n",
       "      <td>f</td>\n",
       "      <td>flexible</td>\n",
       "      <td>f</td>\n",
       "      <td>f</td>\n",
       "      <td>1</td>\n",
       "      <td>4.954196</td>\n",
       "      <td>{internet,\"wireless internet\",kitchen,\"free pa...</td>\n",
       "      <td>internet  wireless internet  kitchen  free pa...</td>\n",
       "      <td>1</td>\n",
       "      <td>1</td>\n",
       "      <td>0</td>\n",
       "      <td>0</td>\n",
       "      <td>0</td>\n",
       "      <td>1</td>\n",
       "      <td>0</td>\n",
       "      <td>0</td>\n",
       "      <td>1</td>\n",
       "      <td>1</td>\n",
       "      <td>0</td>\n",
       "      <td>0-50</td>\n",
       "    </tr>\n",
       "    <tr>\n",
       "      <th>6</th>\n",
       "      <td>t</td>\n",
       "      <td>t</td>\n",
       "      <td>t</td>\n",
       "      <td>Adams-Normandie</td>\n",
       "      <td>Los Angeles</td>\n",
       "      <td>CA</td>\n",
       "      <td>90007</td>\n",
       "      <td>Los Angeles, CA</td>\n",
       "      <td>34.032502</td>\n",
       "      <td>-118.297748</td>\n",
       "      <td>House</td>\n",
       "      <td>Private room</td>\n",
       "      <td>2</td>\n",
       "      <td>1.0</td>\n",
       "      <td>1.0</td>\n",
       "      <td>1.0</td>\n",
       "      <td>{Internet,\"Wireless Internet\",\"Free parking on...</td>\n",
       "      <td>45</td>\n",
       "      <td>5.0</td>\n",
       "      <td>f</td>\n",
       "      <td>moderate</td>\n",
       "      <td>f</td>\n",
       "      <td>f</td>\n",
       "      <td>1</td>\n",
       "      <td>5.523562</td>\n",
       "      <td>{internet,\"wireless internet\",\"free parking on...</td>\n",
       "      <td>internet  wireless internet   free parking on...</td>\n",
       "      <td>1</td>\n",
       "      <td>1</td>\n",
       "      <td>0</td>\n",
       "      <td>0</td>\n",
       "      <td>0</td>\n",
       "      <td>0</td>\n",
       "      <td>0</td>\n",
       "      <td>0</td>\n",
       "      <td>0</td>\n",
       "      <td>0</td>\n",
       "      <td>0</td>\n",
       "      <td>0-50</td>\n",
       "    </tr>\n",
       "    <tr>\n",
       "      <th>8</th>\n",
       "      <td>f</td>\n",
       "      <td>t</td>\n",
       "      <td>t</td>\n",
       "      <td>Adams-Normandie</td>\n",
       "      <td>Los Angeles</td>\n",
       "      <td>CA</td>\n",
       "      <td>90007</td>\n",
       "      <td>Los Angeles, CA</td>\n",
       "      <td>34.035359</td>\n",
       "      <td>-118.299137</td>\n",
       "      <td>House</td>\n",
       "      <td>Entire home/apt</td>\n",
       "      <td>2</td>\n",
       "      <td>1.5</td>\n",
       "      <td>2.0</td>\n",
       "      <td>1.0</td>\n",
       "      <td>{TV,\"Wireless Internet\",\"Air conditioning\",Kit...</td>\n",
       "      <td>350</td>\n",
       "      <td>NaN</td>\n",
       "      <td>f</td>\n",
       "      <td>flexible</td>\n",
       "      <td>f</td>\n",
       "      <td>f</td>\n",
       "      <td>1</td>\n",
       "      <td>8.455327</td>\n",
       "      <td>{tv,\"wireless internet\",\"air conditioning\",kit...</td>\n",
       "      <td>tv  wireless internet   air conditioning  kit...</td>\n",
       "      <td>1</td>\n",
       "      <td>1</td>\n",
       "      <td>0</td>\n",
       "      <td>1</td>\n",
       "      <td>0</td>\n",
       "      <td>1</td>\n",
       "      <td>1</td>\n",
       "      <td>0</td>\n",
       "      <td>1</td>\n",
       "      <td>1</td>\n",
       "      <td>0</td>\n",
       "      <td>300-350</td>\n",
       "    </tr>\n",
       "  </tbody>\n",
       "</table>\n",
       "</div>"
      ],
      "text/plain": [
       "  host_is_superhost host_has_profile_pic host_identity_verified  \\\n",
       "2                 t                    t                      t   \n",
       "3                 t                    t                      f   \n",
       "4                 f                    t                      t   \n",
       "6                 t                    t                      t   \n",
       "8                 f                    t                      t   \n",
       "\n",
       "  neighbourhood_cleansed         city state zipcode   smart_location  \\\n",
       "2                  Acton        Acton    CA   93510        Acton, CA   \n",
       "3                  Acton        Acton    CA   93510        Acton, CA   \n",
       "4        Adams-Normandie  Los Angeles    CA   90007  Los Angeles, CA   \n",
       "6        Adams-Normandie  Los Angeles    CA   90007  Los Angeles, CA   \n",
       "8        Adams-Normandie  Los Angeles    CA   90007  Los Angeles, CA   \n",
       "\n",
       "    latitude   longitude property_type        room_type  accommodates  \\\n",
       "2  34.510130 -118.212407         House     Private room             2   \n",
       "3  34.515486 -118.230742         Other  Entire home/apt             6   \n",
       "4  34.031419 -118.299016     Apartment     Private room             1   \n",
       "6  34.032502 -118.297748         House     Private room             2   \n",
       "8  34.035359 -118.299137         House  Entire home/apt             2   \n",
       "\n",
       "   bathrooms  bedrooms  beds  \\\n",
       "2        1.0       1.0   1.0   \n",
       "3        1.0       1.0   3.0   \n",
       "4        1.0       1.0   1.0   \n",
       "6        1.0       1.0   1.0   \n",
       "8        1.5       2.0   1.0   \n",
       "\n",
       "                                           amenities  price  cleaning_fee  \\\n",
       "2  {\"Wireless Internet\",\"Air conditioning\",\"Wheel...     55           NaN   \n",
       "3  {TV,\"Wireless Internet\",\"Air conditioning\",Poo...    150          35.0   \n",
       "4  {Internet,\"Wireless Internet\",Kitchen,\"Free pa...     30           5.0   \n",
       "6  {Internet,\"Wireless Internet\",\"Free parking on...     45           5.0   \n",
       "8  {TV,\"Wireless Internet\",\"Air conditioning\",Kit...    350           NaN   \n",
       "\n",
       "  instant_bookable cancellation_policy require_guest_profile_picture  \\\n",
       "2                f            flexible                             f   \n",
       "3                t            flexible                             f   \n",
       "4                f            flexible                             f   \n",
       "6                f            moderate                             f   \n",
       "8                f            flexible                             f   \n",
       "\n",
       "  require_guest_phone_verification  minimum_nights  price_log  \\\n",
       "2                                f               1   5.807355   \n",
       "3                                f               1   7.238405   \n",
       "4                                f               1   4.954196   \n",
       "6                                f               1   5.523562   \n",
       "8                                f               1   8.455327   \n",
       "\n",
       "                                       amenities_new  \\\n",
       "2  {\"wireless internet\",\"air conditioning\",\"wheel...   \n",
       "3  {tv,\"wireless internet\",\"air conditioning\",poo...   \n",
       "4  {internet,\"wireless internet\",kitchen,\"free pa...   \n",
       "6  {internet,\"wireless internet\",\"free parking on...   \n",
       "8  {tv,\"wireless internet\",\"air conditioning\",kit...   \n",
       "\n",
       "                                   amenities_cleaned  Internet  Parking  \\\n",
       "2    wireless internet   air conditioning   wheel...         1        1   \n",
       "3   tv  wireless internet   air conditioning  poo...         1        1   \n",
       "4   internet  wireless internet  kitchen  free pa...         1        1   \n",
       "6   internet  wireless internet   free parking on...         1        1   \n",
       "8   tv  wireless internet   air conditioning  kit...         1        1   \n",
       "\n",
       "   Breakfast  TV  Pool  Kitchen  Air_Conditioning  Hot_tub  Washer  Dryer  \\\n",
       "2          0   0     0        1                 1        0       1      1   \n",
       "3          1   1     1        1                 1        1       1      1   \n",
       "4          0   0     0        1                 0        0       1      1   \n",
       "6          0   0     0        0                 0        0       0      0   \n",
       "8          0   1     0        1                 1        0       1      1   \n",
       "\n",
       "   Gym price_binned  \n",
       "2    0       50-100  \n",
       "3    0      100-150  \n",
       "4    0         0-50  \n",
       "6    0         0-50  \n",
       "8    0      300-350  "
      ]
     },
     "execution_count": 39,
     "metadata": {},
     "output_type": "execute_result"
    }
   ],
   "source": [
    "df3.head()"
   ]
  },
  {
   "cell_type": "code",
   "execution_count": 40,
   "id": "90d5745e",
   "metadata": {},
   "outputs": [
    {
     "data": {
      "text/plain": [
       "1    9547\n",
       "Name: minimum_nights, dtype: int64"
      ]
     },
     "execution_count": 40,
     "metadata": {},
     "output_type": "execute_result"
    }
   ],
   "source": [
    "df3.minimum_nights.value_counts()"
   ]
  },
  {
   "cell_type": "code",
   "execution_count": 41,
   "id": "c22e91c3",
   "metadata": {},
   "outputs": [
    {
     "data": {
      "text/plain": [
       "host_is_superhost                     object\n",
       "host_has_profile_pic                  object\n",
       "host_identity_verified                object\n",
       "neighbourhood_cleansed                object\n",
       "city                                  object\n",
       "state                                 object\n",
       "zipcode                               object\n",
       "smart_location                        object\n",
       "latitude                             float64\n",
       "longitude                            float64\n",
       "property_type                         object\n",
       "room_type                             object\n",
       "accommodates                           int64\n",
       "bathrooms                            float64\n",
       "bedrooms                             float64\n",
       "beds                                 float64\n",
       "amenities                             object\n",
       "price                                  int64\n",
       "cleaning_fee                         float64\n",
       "instant_bookable                      object\n",
       "cancellation_policy                   object\n",
       "require_guest_profile_picture         object\n",
       "require_guest_phone_verification      object\n",
       "minimum_nights                         int64\n",
       "price_log                            float64\n",
       "amenities_new                         object\n",
       "amenities_cleaned                     object\n",
       "Internet                               int64\n",
       "Parking                                int64\n",
       "Breakfast                              int64\n",
       "TV                                     int64\n",
       "Pool                                   int64\n",
       "Kitchen                                int64\n",
       "Air_Conditioning                       int64\n",
       "Hot_tub                                int64\n",
       "Washer                                 int64\n",
       "Dryer                                  int64\n",
       "Gym                                    int64\n",
       "price_binned                        category\n",
       "dtype: object"
      ]
     },
     "execution_count": 41,
     "metadata": {},
     "output_type": "execute_result"
    }
   ],
   "source": [
    "df3.dtypes"
   ]
  },
  {
   "cell_type": "code",
   "execution_count": 42,
   "id": "91bd96a1",
   "metadata": {},
   "outputs": [],
   "source": [
    "columns_req = ['host_is_superhost', 'latitude', 'longitude','room_type','accommodates', 'bathrooms', \n",
    "               'bedrooms','beds', 'instant_bookable', 'cancellation_policy','Internet', 'Parking', 'Breakfast', 'TV',\n",
    "               'Pool', 'Kitchen', 'Air_Conditioning', 'Hot_tub', 'Washer', 'Dryer','Gym','price_log', 'price', 'price_binned']"
   ]
  },
  {
   "cell_type": "code",
   "execution_count": 43,
   "id": "48bf7939",
   "metadata": {},
   "outputs": [],
   "source": [
    "df4 = df3[columns_req]"
   ]
  },
  {
   "cell_type": "code",
   "execution_count": 44,
   "id": "3521e643",
   "metadata": {},
   "outputs": [
    {
     "data": {
      "text/html": [
       "<div>\n",
       "<style scoped>\n",
       "    .dataframe tbody tr th:only-of-type {\n",
       "        vertical-align: middle;\n",
       "    }\n",
       "\n",
       "    .dataframe tbody tr th {\n",
       "        vertical-align: top;\n",
       "    }\n",
       "\n",
       "    .dataframe thead th {\n",
       "        text-align: right;\n",
       "    }\n",
       "</style>\n",
       "<table border=\"1\" class=\"dataframe\">\n",
       "  <thead>\n",
       "    <tr style=\"text-align: right;\">\n",
       "      <th></th>\n",
       "      <th>host_is_superhost</th>\n",
       "      <th>latitude</th>\n",
       "      <th>longitude</th>\n",
       "      <th>room_type</th>\n",
       "      <th>accommodates</th>\n",
       "      <th>bathrooms</th>\n",
       "      <th>bedrooms</th>\n",
       "      <th>beds</th>\n",
       "      <th>instant_bookable</th>\n",
       "      <th>cancellation_policy</th>\n",
       "      <th>Internet</th>\n",
       "      <th>Parking</th>\n",
       "      <th>Breakfast</th>\n",
       "      <th>TV</th>\n",
       "      <th>Pool</th>\n",
       "      <th>Kitchen</th>\n",
       "      <th>Air_Conditioning</th>\n",
       "      <th>Hot_tub</th>\n",
       "      <th>Washer</th>\n",
       "      <th>Dryer</th>\n",
       "      <th>Gym</th>\n",
       "      <th>price_log</th>\n",
       "      <th>price</th>\n",
       "      <th>price_binned</th>\n",
       "    </tr>\n",
       "  </thead>\n",
       "  <tbody>\n",
       "    <tr>\n",
       "      <th>2</th>\n",
       "      <td>t</td>\n",
       "      <td>34.510130</td>\n",
       "      <td>-118.212407</td>\n",
       "      <td>Private room</td>\n",
       "      <td>2</td>\n",
       "      <td>1.0</td>\n",
       "      <td>1.0</td>\n",
       "      <td>1.0</td>\n",
       "      <td>f</td>\n",
       "      <td>flexible</td>\n",
       "      <td>1</td>\n",
       "      <td>1</td>\n",
       "      <td>0</td>\n",
       "      <td>0</td>\n",
       "      <td>0</td>\n",
       "      <td>1</td>\n",
       "      <td>1</td>\n",
       "      <td>0</td>\n",
       "      <td>1</td>\n",
       "      <td>1</td>\n",
       "      <td>0</td>\n",
       "      <td>5.807355</td>\n",
       "      <td>55</td>\n",
       "      <td>50-100</td>\n",
       "    </tr>\n",
       "    <tr>\n",
       "      <th>3</th>\n",
       "      <td>t</td>\n",
       "      <td>34.515486</td>\n",
       "      <td>-118.230742</td>\n",
       "      <td>Entire home/apt</td>\n",
       "      <td>6</td>\n",
       "      <td>1.0</td>\n",
       "      <td>1.0</td>\n",
       "      <td>3.0</td>\n",
       "      <td>t</td>\n",
       "      <td>flexible</td>\n",
       "      <td>1</td>\n",
       "      <td>1</td>\n",
       "      <td>1</td>\n",
       "      <td>1</td>\n",
       "      <td>1</td>\n",
       "      <td>1</td>\n",
       "      <td>1</td>\n",
       "      <td>1</td>\n",
       "      <td>1</td>\n",
       "      <td>1</td>\n",
       "      <td>0</td>\n",
       "      <td>7.238405</td>\n",
       "      <td>150</td>\n",
       "      <td>100-150</td>\n",
       "    </tr>\n",
       "    <tr>\n",
       "      <th>4</th>\n",
       "      <td>f</td>\n",
       "      <td>34.031419</td>\n",
       "      <td>-118.299016</td>\n",
       "      <td>Private room</td>\n",
       "      <td>1</td>\n",
       "      <td>1.0</td>\n",
       "      <td>1.0</td>\n",
       "      <td>1.0</td>\n",
       "      <td>f</td>\n",
       "      <td>flexible</td>\n",
       "      <td>1</td>\n",
       "      <td>1</td>\n",
       "      <td>0</td>\n",
       "      <td>0</td>\n",
       "      <td>0</td>\n",
       "      <td>1</td>\n",
       "      <td>0</td>\n",
       "      <td>0</td>\n",
       "      <td>1</td>\n",
       "      <td>1</td>\n",
       "      <td>0</td>\n",
       "      <td>4.954196</td>\n",
       "      <td>30</td>\n",
       "      <td>0-50</td>\n",
       "    </tr>\n",
       "    <tr>\n",
       "      <th>6</th>\n",
       "      <td>t</td>\n",
       "      <td>34.032502</td>\n",
       "      <td>-118.297748</td>\n",
       "      <td>Private room</td>\n",
       "      <td>2</td>\n",
       "      <td>1.0</td>\n",
       "      <td>1.0</td>\n",
       "      <td>1.0</td>\n",
       "      <td>f</td>\n",
       "      <td>moderate</td>\n",
       "      <td>1</td>\n",
       "      <td>1</td>\n",
       "      <td>0</td>\n",
       "      <td>0</td>\n",
       "      <td>0</td>\n",
       "      <td>0</td>\n",
       "      <td>0</td>\n",
       "      <td>0</td>\n",
       "      <td>0</td>\n",
       "      <td>0</td>\n",
       "      <td>0</td>\n",
       "      <td>5.523562</td>\n",
       "      <td>45</td>\n",
       "      <td>0-50</td>\n",
       "    </tr>\n",
       "    <tr>\n",
       "      <th>8</th>\n",
       "      <td>f</td>\n",
       "      <td>34.035359</td>\n",
       "      <td>-118.299137</td>\n",
       "      <td>Entire home/apt</td>\n",
       "      <td>2</td>\n",
       "      <td>1.5</td>\n",
       "      <td>2.0</td>\n",
       "      <td>1.0</td>\n",
       "      <td>f</td>\n",
       "      <td>flexible</td>\n",
       "      <td>1</td>\n",
       "      <td>1</td>\n",
       "      <td>0</td>\n",
       "      <td>1</td>\n",
       "      <td>0</td>\n",
       "      <td>1</td>\n",
       "      <td>1</td>\n",
       "      <td>0</td>\n",
       "      <td>1</td>\n",
       "      <td>1</td>\n",
       "      <td>0</td>\n",
       "      <td>8.455327</td>\n",
       "      <td>350</td>\n",
       "      <td>300-350</td>\n",
       "    </tr>\n",
       "  </tbody>\n",
       "</table>\n",
       "</div>"
      ],
      "text/plain": [
       "  host_is_superhost   latitude   longitude        room_type  accommodates  \\\n",
       "2                 t  34.510130 -118.212407     Private room             2   \n",
       "3                 t  34.515486 -118.230742  Entire home/apt             6   \n",
       "4                 f  34.031419 -118.299016     Private room             1   \n",
       "6                 t  34.032502 -118.297748     Private room             2   \n",
       "8                 f  34.035359 -118.299137  Entire home/apt             2   \n",
       "\n",
       "   bathrooms  bedrooms  beds instant_bookable cancellation_policy  Internet  \\\n",
       "2        1.0       1.0   1.0                f            flexible         1   \n",
       "3        1.0       1.0   3.0                t            flexible         1   \n",
       "4        1.0       1.0   1.0                f            flexible         1   \n",
       "6        1.0       1.0   1.0                f            moderate         1   \n",
       "8        1.5       2.0   1.0                f            flexible         1   \n",
       "\n",
       "   Parking  Breakfast  TV  Pool  Kitchen  Air_Conditioning  Hot_tub  Washer  \\\n",
       "2        1          0   0     0        1                 1        0       1   \n",
       "3        1          1   1     1        1                 1        1       1   \n",
       "4        1          0   0     0        1                 0        0       1   \n",
       "6        1          0   0     0        0                 0        0       0   \n",
       "8        1          0   1     0        1                 1        0       1   \n",
       "\n",
       "   Dryer  Gym  price_log  price price_binned  \n",
       "2      1    0   5.807355     55       50-100  \n",
       "3      1    0   7.238405    150      100-150  \n",
       "4      1    0   4.954196     30         0-50  \n",
       "6      0    0   5.523562     45         0-50  \n",
       "8      1    0   8.455327    350      300-350  "
      ]
     },
     "execution_count": 44,
     "metadata": {},
     "output_type": "execute_result"
    }
   ],
   "source": [
    "df4.head()"
   ]
  },
  {
   "cell_type": "code",
   "execution_count": 45,
   "id": "fa785a8d",
   "metadata": {},
   "outputs": [
    {
     "name": "stderr",
     "output_type": "stream",
     "text": [
      "<ipython-input-45-aab58f1b02ec>:4: SettingWithCopyWarning: \n",
      "A value is trying to be set on a copy of a slice from a DataFrame.\n",
      "Try using .loc[row_indexer,col_indexer] = value instead\n",
      "\n",
      "See the caveats in the documentation: https://pandas.pydata.org/pandas-docs/stable/user_guide/indexing.html#returning-a-view-versus-a-copy\n",
      "  df4[['host_is_superhost','room_type','instant_bookable','cancellation_policy']] =  df4[['host_is_superhost','room_type','instant_bookable','cancellation_policy']].apply(LabelEncoder().fit_transform)\n"
     ]
    }
   ],
   "source": [
    "# Encoding categorical columns to integers\n",
    "from sklearn.preprocessing import LabelEncoder\n",
    "       \n",
    "df4[['host_is_superhost','room_type','instant_bookable','cancellation_policy']] =  df4[['host_is_superhost','room_type','instant_bookable','cancellation_policy']].apply(LabelEncoder().fit_transform)"
   ]
  },
  {
   "cell_type": "code",
   "execution_count": 46,
   "id": "1d6815c2",
   "metadata": {},
   "outputs": [
    {
     "data": {
      "text/plain": [
       "host_is_superhost         int32\n",
       "latitude                float64\n",
       "longitude               float64\n",
       "room_type                 int32\n",
       "accommodates              int64\n",
       "bathrooms               float64\n",
       "bedrooms                float64\n",
       "beds                    float64\n",
       "instant_bookable          int32\n",
       "cancellation_policy       int32\n",
       "Internet                  int64\n",
       "Parking                   int64\n",
       "Breakfast                 int64\n",
       "TV                        int64\n",
       "Pool                      int64\n",
       "Kitchen                   int64\n",
       "Air_Conditioning          int64\n",
       "Hot_tub                   int64\n",
       "Washer                    int64\n",
       "Dryer                     int64\n",
       "Gym                       int64\n",
       "price_log               float64\n",
       "price                     int64\n",
       "price_binned           category\n",
       "dtype: object"
      ]
     },
     "execution_count": 46,
     "metadata": {},
     "output_type": "execute_result"
    }
   ],
   "source": [
    "df4.dtypes"
   ]
  },
  {
   "cell_type": "code",
   "execution_count": 47,
   "id": "cb5bf624",
   "metadata": {},
   "outputs": [
    {
     "data": {
      "text/plain": [
       "<AxesSubplot:>"
      ]
     },
     "execution_count": 47,
     "metadata": {},
     "output_type": "execute_result"
    },
    {
     "data": {
      "image/png": "[encoded data removed]",
      "text/plain": [
       "<Figure size 1080x1080 with 2 Axes>"
      ]
     },
     "metadata": {},
     "output_type": "display_data"
    }
   ],
   "source": [
    "# Trying to check correlation between features\n",
    "\n",
    "sns.set(style=\"darkgrid\")\n",
    "f, ax = plt.subplots(figsize=(15, 15))\n",
    "sns.heatmap(df4[['host_is_superhost', 'latitude', 'longitude','room_type','accommodates', 'bathrooms', \n",
    "               'bedrooms','beds', 'instant_bookable', 'cancellation_policy','Internet', 'Parking', 'Breakfast', 'TV',\n",
    "               'Pool', 'Kitchen', 'Air_Conditioning', 'Hot_tub', 'Washer', 'Dryer','Gym','price_log', 'price']].corr(),annot=True,annot_kws={\"size\":10}, fmt=\".2f\", linewidth=.5)\n",
    "\n",
    "# It can be seen that there is no high correlation between the features"
   ]
  },
  {
   "cell_type": "code",
   "execution_count": 48,
   "id": "7b0f1936",
   "metadata": {},
   "outputs": [],
   "source": [
    "df4.to_csv(r'C:\\Users\\ADMIN\\Desktop\\Sharada PG Documents\\UCI\\08. Study Materials\\07. Machine Learning\\03. Group Project\\Files\\listings_cleaned_11_25.csv', index=False)"
   ]
  },
  {
   "cell_type": "code",
   "execution_count": 49,
   "id": "0e474a7e",
   "metadata": {},
   "outputs": [],
   "source": [
    "train = df4.sample(frac=0.8, random_state=42) \n",
    "test = df4.drop(train.index)"
   ]
  },
  {
   "cell_type": "code",
   "execution_count": 50,
   "id": "be33621a",
   "metadata": {},
   "outputs": [
    {
     "data": {
      "text/plain": [
       "(7638, 24)"
      ]
     },
     "execution_count": 50,
     "metadata": {},
     "output_type": "execute_result"
    }
   ],
   "source": [
    "train.shape"
   ]
  },
  {
   "cell_type": "code",
   "execution_count": 51,
   "id": "44b78799",
   "metadata": {},
   "outputs": [
    {
     "data": {
      "text/plain": [
       "(1909, 24)"
      ]
     },
     "execution_count": 51,
     "metadata": {},
     "output_type": "execute_result"
    }
   ],
   "source": [
    "test.shape"
   ]
  },
  {
   "cell_type": "markdown",
   "id": "85370c01",
   "metadata": {},
   "source": [
    "### Predicting the accuracy of the model with 'price' as the class variable"
   ]
  },
  {
   "cell_type": "code",
   "execution_count": 52,
   "id": "bb4394d4",
   "metadata": {},
   "outputs": [],
   "source": [
    "train_X = train[['host_is_superhost', 'latitude', 'longitude','room_type','accommodates', 'bathrooms', \n",
    "               'bedrooms','beds', 'instant_bookable', 'cancellation_policy','Internet', 'Parking', 'Breakfast', 'TV',\n",
    "               'Pool', 'Kitchen', 'Air_Conditioning', 'Hot_tub', 'Washer', 'Dryer','Gym']]"
   ]
  },
  {
   "cell_type": "code",
   "execution_count": 53,
   "id": "f5991aa7",
   "metadata": {},
   "outputs": [],
   "source": [
    "train_Y = train['price']"
   ]
  },
  {
   "cell_type": "code",
   "execution_count": 54,
   "id": "bd5d878b",
   "metadata": {},
   "outputs": [],
   "source": [
    "validation_Y = test['price']\n",
    "validation_X = test[['host_is_superhost', 'latitude', 'longitude','room_type','accommodates', 'bathrooms', \n",
    "               'bedrooms','beds', 'instant_bookable', 'cancellation_policy','Internet', 'Parking', 'Breakfast', 'TV',\n",
    "               'Pool', 'Kitchen', 'Air_Conditioning', 'Hot_tub', 'Washer', 'Dryer','Gym']]"
   ]
  },
  {
   "cell_type": "markdown",
   "id": "4ff91e94",
   "metadata": {},
   "source": [
    "# Decision Tree Regressor"
   ]
  },
  {
   "cell_type": "code",
   "execution_count": 55,
   "id": "bc34f129",
   "metadata": {},
   "outputs": [
    {
     "data": {
      "text/plain": [
       "47.38920900995286"
      ]
     },
     "execution_count": 55,
     "metadata": {},
     "output_type": "execute_result"
    }
   ],
   "source": [
    "from sklearn.tree import DecisionTreeRegressor\n",
    "\n",
    "clf = DecisionTreeRegressor()\n",
    "clf = clf.fit(train_X,train_Y)\n",
    "y_pred = clf.predict(validation_X)\n",
    "mean_absolute_error(validation_Y, y_pred)"
   ]
  },
  {
   "cell_type": "markdown",
   "id": "74b784e7",
   "metadata": {},
   "source": [
    "### Predicting the accuracy of the model with 'log_price' as the class variable"
   ]
  },
  {
   "cell_type": "code",
   "execution_count": 56,
   "id": "aceae59f",
   "metadata": {},
   "outputs": [],
   "source": [
    "train_X_V2 = train[['host_is_superhost', 'latitude', 'longitude','room_type','accommodates', 'bathrooms', \n",
    "               'bedrooms','beds', 'instant_bookable', 'cancellation_policy','Internet', 'Parking', 'Breakfast', 'TV',\n",
    "               'Pool', 'Kitchen', 'Air_Conditioning', 'Hot_tub', 'Washer', 'Dryer','Gym']]\n",
    "train_Y_V2 = train['price_log']"
   ]
  },
  {
   "cell_type": "code",
   "execution_count": 57,
   "id": "11b7df30",
   "metadata": {},
   "outputs": [],
   "source": [
    "validation_Y_V2 = test['price_log']\n",
    "validation_X_V2 = test[['host_is_superhost', 'latitude', 'longitude','room_type','accommodates', 'bathrooms', \n",
    "               'bedrooms','beds', 'instant_bookable', 'cancellation_policy','Internet', 'Parking', 'Breakfast', 'TV',\n",
    "               'Pool', 'Kitchen', 'Air_Conditioning', 'Hot_tub', 'Washer', 'Dryer','Gym']]"
   ]
  },
  {
   "cell_type": "code",
   "execution_count": 58,
   "id": "64f87394",
   "metadata": {},
   "outputs": [
    {
     "data": {
      "text/plain": [
       "6.507794640198696"
      ]
     },
     "execution_count": 58,
     "metadata": {},
     "output_type": "execute_result"
    }
   ],
   "source": [
    "# Checking how to take anti log of a value\n",
    "a = 90\n",
    "log_value = np.log2(a + 1)\n",
    "log_value"
   ]
  },
  {
   "cell_type": "code",
   "execution_count": 59,
   "id": "1db3a48c",
   "metadata": {},
   "outputs": [
    {
     "data": {
      "text/plain": [
       "90.0"
      ]
     },
     "execution_count": 59,
     "metadata": {},
     "output_type": "execute_result"
    }
   ],
   "source": [
    "# Checking how to take anti log of a value\n",
    "np.power(2,log_value) - 1"
   ]
  },
  {
   "cell_type": "code",
   "execution_count": 60,
   "id": "78e6d629",
   "metadata": {},
   "outputs": [],
   "source": [
    "leaf_nodes = [5, 10, 20, 30, 35, 40, 45, 50, 60, 70, 80, 90, 100, 110, 120, 130, 140, 150, 160, 170, 180, 190, 200, 250]\n",
    "mae = []\n",
    "\n",
    "for i in leaf_nodes:\n",
    "    clf = DecisionTreeRegressor(max_leaf_nodes = i)\n",
    "    clf = clf.fit(train_X_V2,train_Y_V2)\n",
    "    y_pred_V2 = clf.predict(validation_X_V2)\n",
    "    y_pred_antilog = np.power(2,y_pred_V2) - 1\n",
    "    mae.append(mean_absolute_error(validation_Y, y_pred_antilog))\n",
    "    "
   ]
  },
  {
   "cell_type": "code",
   "execution_count": 61,
   "id": "6fb8b489",
   "metadata": {},
   "outputs": [
    {
     "data": {
      "image/png": "[encoded data removed]",
      "text/plain": [
       "<Figure size 432x288 with 1 Axes>"
      ]
     },
     "metadata": {},
     "output_type": "display_data"
    }
   ],
   "source": [
    "plt.plot(leaf_nodes, mae, color='blue', linewidth = 2,\n",
    "         marker='o', markerfacecolor='blue', markersize=5)\n",
    "plt.xlabel('Number of leaf nodes')\n",
    "# naming the y axis\n",
    "plt.ylabel('Mean Absolute Error')\n",
    "plt.grid(False)\n",
    "# giving a title to my graph\n",
    "plt.title('MAE vs Number of nodes')\n",
    "  \n",
    "# function to show the plot\n",
    "plt.show()"
   ]
  },
  {
   "cell_type": "code",
   "execution_count": 62,
   "id": "f1fb395b",
   "metadata": {},
   "outputs": [
    {
     "data": {
      "text/plain": [
       "35.551704365848046"
      ]
     },
     "execution_count": 62,
     "metadata": {},
     "output_type": "execute_result"
    }
   ],
   "source": [
    "clf = DecisionTreeRegressor(max_leaf_nodes = 45)\n",
    "clf = clf.fit(train_X_V2,train_Y_V2)\n",
    "y_pred_V2 = clf.predict(validation_X_V2)\n",
    "y_pred_antilog = np.power(2,y_pred_V2) - 1\n",
    "\n",
    "mean_absolute_error(validation_Y, y_pred_antilog)"
   ]
  },
  {
   "cell_type": "code",
   "execution_count": 63,
   "id": "9f01f72f",
   "metadata": {},
   "outputs": [
    {
     "data": {
      "text/plain": [
       "0.29985305977951654"
      ]
     },
     "execution_count": 63,
     "metadata": {},
     "output_type": "execute_result"
    }
   ],
   "source": [
    "mean_absolute_percentage_error(validation_Y, y_pred_antilog)"
   ]
  },
  {
   "cell_type": "code",
   "execution_count": 64,
   "id": "1c1c8da5",
   "metadata": {},
   "outputs": [
    {
     "data": {
      "text/plain": [
       "0.5115445591012098"
      ]
     },
     "execution_count": 64,
     "metadata": {},
     "output_type": "execute_result"
    }
   ],
   "source": [
    "# Checking R2 for the model with max_leaf_nodes = 45\n",
    "\n",
    "from sklearn.metrics import r2_score\n",
    "r2_score(validation_Y, y_pred_antilog)"
   ]
  },
  {
   "cell_type": "code",
   "execution_count": 65,
   "id": "584fea90",
   "metadata": {},
   "outputs": [
    {
     "data": {
      "text/plain": [
       "0.29985305977951654"
      ]
     },
     "execution_count": 65,
     "metadata": {},
     "output_type": "execute_result"
    }
   ],
   "source": [
    "# Checking MAPE for the model with max_leaf_nodes = 45\n",
    "mean_absolute_percentage_error(validation_Y, y_pred_antilog)"
   ]
  },
  {
   "cell_type": "code",
   "execution_count": 66,
   "id": "1d953453",
   "metadata": {},
   "outputs": [
    {
     "data": {
      "text/plain": [
       "[<matplotlib.lines.Line2D at 0x23e4b8f23d0>]"
      ]
     },
     "execution_count": 66,
     "metadata": {},
     "output_type": "execute_result"
    },
    {
     "data": {
      "image/png": "[encoded data removed]",
      "text/plain": [
       "<Figure size 432x288 with 1 Axes>"
      ]
     },
     "metadata": {},
     "output_type": "display_data"
    }
   ],
   "source": [
    "plt.scatter(y_pred_antilog,validation_Y, s=None, c=None, marker=None, linewidths=None, edgecolors=None) \n",
    "plt.xlabel('Predicted Price')\n",
    "plt.ylabel('Actual Price')\n",
    "plt.grid(False)\n",
    "\n",
    "#find line of best fit\n",
    "a, b = np.polyfit(y_pred_antilog,validation_Y, 1)\n",
    "\n",
    "#add line of best fit to plot\n",
    "plt.plot(y_pred_antilog, (a*y_pred_antilog)+b, color = 'red')     "
   ]
  },
  {
   "cell_type": "code",
   "execution_count": 67,
   "id": "67fdb354",
   "metadata": {},
   "outputs": [
    {
     "data": {
      "text/plain": [
       "1.0845729874326882"
      ]
     },
     "execution_count": 67,
     "metadata": {},
     "output_type": "execute_result"
    }
   ],
   "source": [
    "a"
   ]
  },
  {
   "cell_type": "code",
   "execution_count": 68,
   "id": "2c7b8a66",
   "metadata": {},
   "outputs": [
    {
     "data": {
      "text/plain": [
       "-0.41738787006501094"
      ]
     },
     "execution_count": 68,
     "metadata": {},
     "output_type": "execute_result"
    }
   ],
   "source": [
    "b"
   ]
  },
  {
   "cell_type": "markdown",
   "id": "2b1a0c9c",
   "metadata": {},
   "source": [
    "### Repeating the above steps after removing 'accommodate' columns"
   ]
  },
  {
   "cell_type": "code",
   "execution_count": 69,
   "id": "e65703f1",
   "metadata": {},
   "outputs": [],
   "source": [
    "train_X_V3 = train[['host_is_superhost', 'latitude', 'longitude','room_type', 'bathrooms', \n",
    "               'bedrooms','beds', 'instant_bookable', 'cancellation_policy','Internet', 'Parking', 'Breakfast', 'TV',\n",
    "               'Pool', 'Kitchen', 'Air_Conditioning', 'Hot_tub', 'Washer', 'Dryer','Gym']]\n",
    "train_Y_V3 = train['price_log']"
   ]
  },
  {
   "cell_type": "code",
   "execution_count": 70,
   "id": "52853c51",
   "metadata": {},
   "outputs": [],
   "source": [
    "validation_Y_V3 = test['price_log']\n",
    "validation_X_V3 = test[['host_is_superhost','latitude', 'longitude','room_type', 'bathrooms', \n",
    "               'bedrooms','beds', 'instant_bookable', 'cancellation_policy','Internet', 'Parking', 'Breakfast', 'TV',\n",
    "               'Pool', 'Kitchen', 'Air_Conditioning', 'Hot_tub', 'Washer', 'Dryer','Gym']]"
   ]
  },
  {
   "cell_type": "code",
   "execution_count": 71,
   "id": "d8afc2b9",
   "metadata": {},
   "outputs": [],
   "source": [
    "leaf_nodes = [5, 10, 20, 30, 35, 40, 45, 50, 60, 70, 80, 90, 100, 110, 120, 130, 140, 150, 160, 170, 180, 190, 200, 250]\n",
    "mae = []\n",
    "mape = []\n",
    "for i in leaf_nodes:\n",
    "    clf = DecisionTreeRegressor(max_leaf_nodes = i)\n",
    "    clf = clf.fit(train_X_V3,train_Y_V3)\n",
    "    y_pred_V3 = clf.predict(validation_X_V3)\n",
    "    y_pred_antilog = np.power(2,y_pred_V3) - 1\n",
    "    mae.append(mean_absolute_error(validation_Y, y_pred_antilog))\n",
    "    mape.append(mean_absolute_percentage_error(validation_Y, y_pred_antilog))\n",
    "    "
   ]
  },
  {
   "cell_type": "code",
   "execution_count": 72,
   "id": "7d5ccc02",
   "metadata": {},
   "outputs": [
    {
     "data": {
      "image/png": "[encoded data removed]",
      "text/plain": [
       "<Figure size 432x288 with 1 Axes>"
      ]
     },
     "metadata": {},
     "output_type": "display_data"
    }
   ],
   "source": [
    "plt.plot(leaf_nodes, mae, color='green', linewidth = 2,\n",
    "         marker='o', markerfacecolor='green', markersize=5)\n",
    "plt.xlabel('Number of leaf nodes')\n",
    "# naming the y axis\n",
    "plt.ylabel('Mean Absolute Error')\n",
    "plt.grid(False)\n",
    "# giving a title to my graph\n",
    "plt.title('MAE vs Number of nodes for Decision Tree Regressor')\n",
    "  \n",
    "# function to show the plot\n",
    "plt.show()"
   ]
  },
  {
   "cell_type": "code",
   "execution_count": 73,
   "id": "dab4345f",
   "metadata": {},
   "outputs": [
    {
     "data": {
      "image/png": "[encoded data removed]",
      "text/plain": [
       "<Figure size 432x288 with 1 Axes>"
      ]
     },
     "metadata": {},
     "output_type": "display_data"
    }
   ],
   "source": [
    "plt.plot(leaf_nodes, mape, color='blue', linewidth = 2,\n",
    "         marker='o', markerfacecolor='blue', markersize=5)\n",
    "\n",
    "plt.xlabel('Number of leaf nodes')\n",
    "# naming the y axis\n",
    "plt.ylabel('Mean Absolute Percentage Error')\n",
    "plt.grid(False)\n",
    "# giving a title to my graph\n",
    "plt.title('MAPE vs Number of leaf nodes')\n",
    "  \n",
    "# function to show the plot\n",
    "plt.show()"
   ]
  },
  {
   "cell_type": "code",
   "execution_count": 74,
   "id": "af0cca77",
   "metadata": {},
   "outputs": [
    {
     "data": {
      "text/plain": [
       "35.89686207265578"
      ]
     },
     "execution_count": 74,
     "metadata": {},
     "output_type": "execute_result"
    }
   ],
   "source": [
    "clf = DecisionTreeRegressor(max_leaf_nodes = 45)\n",
    "clf = clf.fit(train_X_V3,train_Y_V3)\n",
    "y_pred_V3 = clf.predict(validation_X_V3)\n",
    "y_pred_antilog = np.power(2,y_pred_V3) - 1\n",
    "\n",
    "mean_absolute_error(validation_Y, y_pred_antilog)"
   ]
  },
  {
   "cell_type": "code",
   "execution_count": 75,
   "id": "3c50c11d",
   "metadata": {},
   "outputs": [
    {
     "data": {
      "text/plain": [
       "0.30135331227584156"
      ]
     },
     "execution_count": 75,
     "metadata": {},
     "output_type": "execute_result"
    }
   ],
   "source": [
    "mean_absolute_percentage_error(validation_Y, y_pred_antilog)"
   ]
  },
  {
   "cell_type": "code",
   "execution_count": 76,
   "id": "ba291386",
   "metadata": {},
   "outputs": [
    {
     "data": {
      "text/plain": [
       "0.5044062214480649"
      ]
     },
     "execution_count": 76,
     "metadata": {},
     "output_type": "execute_result"
    }
   ],
   "source": [
    "# Checking R2 for the model with max_leaf_nodes = 45\n",
    "\n",
    "from sklearn.metrics import r2_score\n",
    "r2_score(validation_Y, y_pred_antilog)"
   ]
  },
  {
   "cell_type": "markdown",
   "id": "4bcd1f1f",
   "metadata": {},
   "source": [
    "#### Accuracy did not improved in the above trial"
   ]
  },
  {
   "cell_type": "markdown",
   "id": "054fafcf",
   "metadata": {},
   "source": [
    "# KNN Model"
   ]
  },
  {
   "cell_type": "code",
   "execution_count": 77,
   "id": "1b33ed20",
   "metadata": {},
   "outputs": [],
   "source": [
    "from sklearn.neighbors import KNeighborsRegressor\n",
    "from sklearn.metrics import mean_squared_error"
   ]
  },
  {
   "cell_type": "code",
   "execution_count": 78,
   "id": "29945201",
   "metadata": {},
   "outputs": [],
   "source": [
    "train_X_KNN = train[['host_is_superhost', 'latitude', 'longitude','room_type','accommodates', 'bathrooms', \n",
    "               'bedrooms','beds', 'instant_bookable', 'cancellation_policy','Internet', 'Parking', 'Breakfast', 'TV',\n",
    "               'Pool', 'Kitchen', 'Air_Conditioning', 'Hot_tub', 'Washer', 'Dryer','Gym']]\n",
    "train_Y_KNN = train['price_log']"
   ]
  },
  {
   "cell_type": "code",
   "execution_count": 79,
   "id": "bb31da82",
   "metadata": {},
   "outputs": [],
   "source": [
    "validation_Y_KNN = test['price_log']\n",
    "validation_X_KNN = test[['host_is_superhost', 'latitude', 'longitude','room_type','accommodates', 'bathrooms', \n",
    "               'bedrooms','beds', 'instant_bookable', 'cancellation_policy','Internet', 'Parking', 'Breakfast', 'TV',\n",
    "               'Pool', 'Kitchen', 'Air_Conditioning', 'Hot_tub', 'Washer', 'Dryer','Gym']]"
   ]
  },
  {
   "cell_type": "code",
   "execution_count": 90,
   "id": "aeadb9bc",
   "metadata": {},
   "outputs": [],
   "source": [
    "knn_neighbours = [5, 7, 9, 11, 13, 15, 17, 19, 21, 23, 25, 27, 29, 31, 33, 35, 40, 45, 50, 55, 60, 65, 70, 75, 80]\n",
    "mae_knn = []\n",
    "mape_knn = []\n",
    "\n",
    "for i in knn_neighbours:\n",
    "    model = KNeighborsRegressor(n_neighbors = i, algorithm = 'ball_tree')\n",
    "    model_knn = model.fit(train_X_KNN,train_Y_KNN)\n",
    "    y_pred_KNN = model_knn.predict(validation_X_KNN)\n",
    "    y_pred_antilog_KNN = np.power(2,y_pred_KNN) - 1\n",
    "    mean_absolute_error(validation_Y, y_pred_antilog_KNN)\n",
    "    mae_knn.append(mean_absolute_error(validation_Y, y_pred_antilog_KNN))\n",
    "    mape_knn.append(mean_absolute_percentage_error(validation_Y, y_pred_antilog_KNN))"
   ]
  },
  {
   "cell_type": "code",
   "execution_count": 81,
   "id": "96dc93a2",
   "metadata": {},
   "outputs": [
    {
     "data": {
      "image/png": "[encoded data removed]",
      "text/plain": [
       "<Figure size 432x288 with 1 Axes>"
      ]
     },
     "metadata": {},
     "output_type": "display_data"
    }
   ],
   "source": [
    "plt.plot(knn_neighbours, mae_knn, color='blue', linewidth = 2,\n",
    "         marker='o', markerfacecolor='green', markersize=5)\n",
    "plt.xlabel('n_neighbors')\n",
    "# naming the y axis\n",
    "plt.ylabel('Mean Absolute Error')\n",
    "plt.grid(False)\n",
    "\n",
    "plt.title('MAE vs n_neighbors')  \n",
    "# function to show the plot\n",
    "plt.show()"
   ]
  },
  {
   "cell_type": "code",
   "execution_count": 91,
   "id": "8732422c",
   "metadata": {},
   "outputs": [
    {
     "data": {
      "image/png": "[encoded data removed]",
      "text/plain": [
       "<Figure size 432x288 with 1 Axes>"
      ]
     },
     "metadata": {},
     "output_type": "display_data"
    }
   ],
   "source": [
    "plt.plot(knn_neighbours, mae_knn, color='blue', linewidth = 2,\n",
    "         marker='o', markerfacecolor='green', markersize=5)\n",
    "plt.xlabel('n_neighbors')\n",
    "# naming the y axis\n",
    "plt.ylabel('Mean Absolute Error')\n",
    "plt.grid(False)\n",
    "\n",
    "plt.title('MAE vs n_neighbors')  \n",
    "# function to show the plot\n",
    "plt.show()"
   ]
  },
  {
   "cell_type": "code",
   "execution_count": 82,
   "id": "e7295a8b",
   "metadata": {},
   "outputs": [
    {
     "data": {
      "image/png": "[encoded data removed]",
      "text/plain": [
       "<Figure size 432x288 with 1 Axes>"
      ]
     },
     "metadata": {},
     "output_type": "display_data"
    }
   ],
   "source": [
    "plt.plot(knn_neighbours, mape_knn, color='blue', linewidth = 2,\n",
    "         marker='o', markerfacecolor='green', markersize=5)\n",
    "plt.xlabel('n_neighbors')\n",
    "# naming the y axis\n",
    "plt.ylabel('Mean Absolute Error')\n",
    "  \n",
    "# giving a title to my graph\n",
    "plt.title('MAE vs n_neighbors')\n",
    "  \n",
    "# function to show the plot\n",
    "plt.show()"
   ]
  },
  {
   "cell_type": "code",
   "execution_count": 94,
   "id": "bac54ac9",
   "metadata": {},
   "outputs": [],
   "source": [
    "\n",
    "model = KNeighborsRegressor(n_neighbors=17)"
   ]
  },
  {
   "cell_type": "code",
   "execution_count": 95,
   "id": "1cd9096e",
   "metadata": {},
   "outputs": [
    {
     "data": {
      "text/plain": [
       "37.105697826613685"
      ]
     },
     "execution_count": 95,
     "metadata": {},
     "output_type": "execute_result"
    }
   ],
   "source": [
    "model_knn = model.fit(train_X_KNN,train_Y_KNN)\n",
    "y_pred_KNN = model_knn.predict(validation_X_KNN)\n",
    "y_pred_antilog_KNN = np.power(2,y_pred_KNN) - 1\n",
    "\n",
    "mean_absolute_error(validation_Y, y_pred_antilog_KNN)"
   ]
  },
  {
   "cell_type": "code",
   "execution_count": 85,
   "id": "9e2c49fb",
   "metadata": {},
   "outputs": [
    {
     "data": {
      "text/plain": [
       "[<matplotlib.lines.Line2D at 0x23e58a18b20>]"
      ]
     },
     "execution_count": 85,
     "metadata": {},
     "output_type": "execute_result"
    },
    {
     "data": {
      "image/png": "[encoded data removed]",
      "text/plain": [
       "<Figure size 432x288 with 1 Axes>"
      ]
     },
     "metadata": {},
     "output_type": "display_data"
    }
   ],
   "source": [
    "plt.scatter(y_pred_antilog_KNN,validation_Y, s=None, c=None, marker=None, linewidths=None, edgecolors=None) \n",
    "plt.xlabel('Predicted Price')\n",
    "plt.ylabel('Actual Price')\n",
    "plt.grid(False)\n",
    "\n",
    "#find line of best fit\n",
    "a, b = np.polyfit(y_pred_antilog_KNN,validation_Y, 1)\n",
    "\n",
    "#add line of best fit to plot\n",
    "plt.plot(y_pred_antilog_KNN, (a*y_pred_antilog_KNN)+b, color = 'red')     "
   ]
  },
  {
   "cell_type": "code",
   "execution_count": 86,
   "id": "b941f48a",
   "metadata": {},
   "outputs": [
    {
     "data": {
      "text/plain": [
       "1.1643201439291395"
      ]
     },
     "execution_count": 86,
     "metadata": {},
     "output_type": "execute_result"
    }
   ],
   "source": [
    "a"
   ]
  },
  {
   "cell_type": "code",
   "execution_count": 87,
   "id": "47f50f94",
   "metadata": {},
   "outputs": [
    {
     "data": {
      "text/plain": [
       "0.32512461250363295"
      ]
     },
     "execution_count": 87,
     "metadata": {},
     "output_type": "execute_result"
    }
   ],
   "source": [
    "mean_absolute_percentage_error(validation_Y, y_pred_antilog_KNN)"
   ]
  },
  {
   "cell_type": "code",
   "execution_count": 88,
   "id": "dcfa41c0",
   "metadata": {},
   "outputs": [
    {
     "data": {
      "text/plain": [
       "64.70101029363782"
      ]
     },
     "execution_count": 88,
     "metadata": {},
     "output_type": "execute_result"
    }
   ],
   "source": [
    "mean_squared_error(validation_Y, y_pred_antilog_KNN, squared=False)"
   ]
  },
  {
   "cell_type": "code",
   "execution_count": 89,
   "id": "6d0a3e07",
   "metadata": {},
   "outputs": [
    {
     "data": {
      "text/plain": [
       "0.5065167531304288"
      ]
     },
     "execution_count": 89,
     "metadata": {},
     "output_type": "execute_result"
    }
   ],
   "source": [
    "# Checking R2 for the model with max_leaf_nodes = 45\n",
    "from sklearn.metrics import r2_score\n",
    "r2_score(validation_Y, y_pred_antilog_KNN)"
   ]
  }
 ],
 "metadata": {
  "kernelspec": {
   "display_name": "Python 3",
   "language": "python",
   "name": "python3"
  },
  "language_info": {
   "codemirror_mode": {
    "name": "ipython",
    "version": 3
   },
   "file_extension": ".py",
   "mimetype": "text/x-python",
   "name": "python",
   "nbconvert_exporter": "python",
   "pygments_lexer": "ipython3",
   "version": "3.8.8"
  }
 },
 "nbformat": 4,
 "nbformat_minor": 5
}
